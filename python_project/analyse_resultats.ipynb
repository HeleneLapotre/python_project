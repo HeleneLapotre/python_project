{
 "cells": [
  {
   "cell_type": "code",
   "execution_count": 81,
   "metadata": {
    "collapsed": true
   },
   "outputs": [],
   "source": [
    "import numpy as np\n",
    "import pandas as pd\n",
    "# pour importer les outils de maths"
   ]
  },
  {
   "cell_type": "code",
   "execution_count": 82,
   "metadata": {},
   "outputs": [
    {
     "data": {
      "text/plain": [
       "['Feuille1']"
      ]
     },
     "execution_count": 82,
     "metadata": {},
     "output_type": "execute_result"
    }
   ],
   "source": [
    "# importer la base de donnée\n",
    "data = pd.ExcelFile('/Users/helene/Documents/code/python_project/ombres.xls')\n",
    "data.sheet_names"
   ]
  },
  {
   "cell_type": "code",
   "execution_count": 83,
   "metadata": {},
   "outputs": [
    {
     "data": {
      "text/html": [
       "<div>\n",
       "<style>\n",
       "    .dataframe thead tr:only-child th {\n",
       "        text-align: right;\n",
       "    }\n",
       "\n",
       "    .dataframe thead th {\n",
       "        text-align: left;\n",
       "    }\n",
       "\n",
       "    .dataframe tbody tr th {\n",
       "        vertical-align: top;\n",
       "    }\n",
       "</style>\n",
       "<table border=\"1\" class=\"dataframe\">\n",
       "  <thead>\n",
       "    <tr style=\"text-align: right;\">\n",
       "      <th></th>\n",
       "      <th>1-ID_Sujet</th>\n",
       "      <th>2-Essai</th>\n",
       "      <th>3-Date</th>\n",
       "      <th>4-Heure</th>\n",
       "      <th>5-Nom_Ombre</th>\n",
       "      <th>6-Nom_Objet</th>\n",
       "      <th>7-Temps_Reaction</th>\n",
       "      <th>8-Temps_Deplacement</th>\n",
       "      <th>9-Temps_Total</th>\n",
       "      <th>10-Couleur</th>\n",
       "    </tr>\n",
       "  </thead>\n",
       "  <tbody>\n",
       "    <tr>\n",
       "      <th>0</th>\n",
       "      <td>1</td>\n",
       "      <td>1</td>\n",
       "      <td>14-Feb-2017</td>\n",
       "      <td>09:27:26</td>\n",
       "      <td>absente</td>\n",
       "      <td>Pomme</td>\n",
       "      <td>0.523605</td>\n",
       "      <td>1.012345</td>\n",
       "      <td>1.535949</td>\n",
       "      <td>noire</td>\n",
       "    </tr>\n",
       "    <tr>\n",
       "      <th>1</th>\n",
       "      <td>1</td>\n",
       "      <td>2</td>\n",
       "      <td>14-Feb-2017</td>\n",
       "      <td>09:27:26</td>\n",
       "      <td>absente</td>\n",
       "      <td>Dévidoir</td>\n",
       "      <td>0.486128</td>\n",
       "      <td>1.171291</td>\n",
       "      <td>1.657419</td>\n",
       "      <td>noire</td>\n",
       "    </tr>\n",
       "    <tr>\n",
       "      <th>2</th>\n",
       "      <td>1</td>\n",
       "      <td>3</td>\n",
       "      <td>14-Feb-2017</td>\n",
       "      <td>09:27:26</td>\n",
       "      <td>inverse</td>\n",
       "      <td>Souris</td>\n",
       "      <td>0.470516</td>\n",
       "      <td>1.103335</td>\n",
       "      <td>1.573851</td>\n",
       "      <td>noire</td>\n",
       "    </tr>\n",
       "    <tr>\n",
       "      <th>3</th>\n",
       "      <td>1</td>\n",
       "      <td>4</td>\n",
       "      <td>14-Feb-2017</td>\n",
       "      <td>09:27:26</td>\n",
       "      <td>inverse</td>\n",
       "      <td>Oiseau</td>\n",
       "      <td>0.486586</td>\n",
       "      <td>1.354944</td>\n",
       "      <td>1.841531</td>\n",
       "      <td>noire</td>\n",
       "    </tr>\n",
       "    <tr>\n",
       "      <th>4</th>\n",
       "      <td>1</td>\n",
       "      <td>5</td>\n",
       "      <td>14-Feb-2017</td>\n",
       "      <td>09:27:26</td>\n",
       "      <td>Souris</td>\n",
       "      <td>Oiseau</td>\n",
       "      <td>0.426709</td>\n",
       "      <td>1.150893</td>\n",
       "      <td>1.577602</td>\n",
       "      <td>noire</td>\n",
       "    </tr>\n",
       "  </tbody>\n",
       "</table>\n",
       "</div>"
      ],
      "text/plain": [
       "   1-ID_Sujet  2-Essai       3-Date   4-Heure 5-Nom_Ombre 6-Nom_Objet  \\\n",
       "0           1        1  14-Feb-2017  09:27:26     absente       Pomme   \n",
       "1           1        2  14-Feb-2017  09:27:26     absente    Dévidoir   \n",
       "2           1        3  14-Feb-2017  09:27:26     inverse      Souris   \n",
       "3           1        4  14-Feb-2017  09:27:26     inverse      Oiseau   \n",
       "4           1        5  14-Feb-2017  09:27:26      Souris      Oiseau   \n",
       "\n",
       "   7-Temps_Reaction  8-Temps_Deplacement  9-Temps_Total 10-Couleur  \n",
       "0          0.523605             1.012345       1.535949      noire  \n",
       "1          0.486128             1.171291       1.657419      noire  \n",
       "2          0.470516             1.103335       1.573851      noire  \n",
       "3          0.486586             1.354944       1.841531      noire  \n",
       "4          0.426709             1.150893       1.577602      noire  "
      ]
     },
     "execution_count": 83,
     "metadata": {},
     "output_type": "execute_result"
    }
   ],
   "source": [
    "df = data.parse('Feuille1')\n",
    "df.head()"
   ]
  },
  {
   "cell_type": "code",
   "execution_count": 84,
   "metadata": {},
   "outputs": [
    {
     "name": "stdout",
     "output_type": "stream",
     "text": [
      "     5-Nom_Ombre        6-Nom_Objet  9-Temps_Total\n",
      "0        absente              Pomme       1.535949\n",
      "1        absente           Dévidoir       1.657419\n",
      "2        inverse             Souris       1.573851\n",
      "3        inverse             Oiseau       1.841531\n",
      "4         Souris             Oiseau       1.577602\n",
      "5         Souris              Pomme       1.531415\n",
      "6        absente       Chat_Couleur       1.611101\n",
      "7        absente           Dévidoir       1.516467\n",
      "8         normal        Mug_Couleur       1.564420\n",
      "9        inverse              Pomme       1.512501\n",
      "10       inverse              Pomme       1.344366\n",
      "11        normal             Souris       1.463022\n",
      "12        normal       Chat_Couleur       1.541265\n",
      "13       absente             Oiseau       1.595173\n",
      "14       inverse  Agrafeuse_Couleur       1.764626\n",
      "15       inverse       Chat_Couleur       1.607727\n",
      "16       absente        Mug_Couleur       1.626198\n",
      "17       inverse  Agrafeuse_Couleur       1.472316\n",
      "18       inverse        Mug_Couleur       1.507020\n",
      "19        Oiseau              Fleur       1.559278\n",
      "20        normal             Oiseau       1.653702\n",
      "21       inverse           Dévidoir       1.541201\n",
      "22       inverse             Oiseau       1.746426\n",
      "23       absente  Agrafeuse_Couleur       1.628271\n",
      "24        normal        Mug_Couleur       1.630258\n",
      "25       inverse              Tasse       1.488695\n",
      "26       absente              Fleur       1.504348\n",
      "27        normal              Tasse       1.510036\n",
      "28        normal              Tasse       1.568972\n",
      "29      devidoir             Souris       1.502695\n",
      "...          ...                ...            ...\n",
      "1007       Tasse              Fleur       1.220877\n",
      "1008    devidoir              Pomme       1.338934\n",
      "1009     inverse             Oiseau       1.364625\n",
      "1010       Fleur              Tasse       1.337870\n",
      "1011     inverse        Mug_Couleur       1.316746\n",
      "1012      normal           Dévidoir       1.309224\n",
      "1013      normal             Oiseau       1.336701\n",
      "1014         Mug       Chat_Couleur       1.306285\n",
      "1015     absente              Pomme       1.275856\n",
      "1016     absente              Pomme       1.277907\n",
      "1017      normal              Fleur       1.244259\n",
      "1018      normal              Fleur       1.212931\n",
      "1019     inverse              Fleur       1.200870\n",
      "1020      normal             Souris       1.229002\n",
      "1021   Agrafeuse       Chat_Couleur       1.219045\n",
      "1022     inverse              Tasse       1.282871\n",
      "1023      normal       Chat_Couleur       1.107895\n",
      "1024      normal              Pomme       1.077641\n",
      "1025   Agrafeuse        Mug_Couleur       1.257950\n",
      "1026     absente             Souris       1.212658\n",
      "1027      normal        Mug_Couleur       1.159072\n",
      "1028     inverse              Pomme       1.258941\n",
      "1029      normal             Souris       1.149034\n",
      "1030      Oiseau              Tasse       1.192142\n",
      "1031       Pomme           Dévidoir       1.206874\n",
      "1032     absente        Mug_Couleur       1.207952\n",
      "1033     inverse              Fleur       1.279783\n",
      "1034        Chat  Agrafeuse_Couleur       1.192740\n",
      "1035     absente           Dévidoir       1.046951\n",
      "1036     inverse              Tasse       1.174880\n",
      "\n",
      "[1037 rows x 3 columns]\n"
     ]
    }
   ],
   "source": [
    "df = df.drop(df.columns[[0, 1, 2, 3, 6, 7, 9]], axis = 1)\n",
    "print(df)"
   ]
  },
  {
   "cell_type": "code",
   "execution_count": 15,
   "metadata": {},
   "outputs": [
    {
     "ename": "SyntaxError",
     "evalue": "invalid syntax (<ipython-input-15-c5f549681fc4>, line 16)",
     "output_type": "error",
     "traceback": [
      "\u001b[0;36m  File \u001b[0;32m\"<ipython-input-15-c5f549681fc4>\"\u001b[0;36m, line \u001b[0;32m16\u001b[0m\n\u001b[0;31m    if df[1] == \"absente\"\u001b[0m\n\u001b[0m                         ^\u001b[0m\n\u001b[0;31mSyntaxError\u001b[0m\u001b[0;31m:\u001b[0m invalid syntax\n"
     ]
    }
   ],
   "source": [
    "# je renomme le nom des ombres \n",
    "#- Ombre absente -> absente\n",
    "#- Ombres inverses -> inverse (ombre qui correspondent à l’objet mais qui sont en position inversée)\n",
    "\n",
    "#- Ombre normales -> normal (qui correspond à l’objet\n",
    "\n",
    "#- if df[1] == df[2] \n",
    "#-    df[1]= \"normale\"\n",
    "#- end\n",
    "\n",
    "#- Ombre différente -> tous les autres terme (correspond à l’ombre qui a  été présentée\n",
    "\n",
    "#df.ix[~df[\"5-Nom_Ombre\"].isin(['inverse', 'normal']), '5-Nom_Ombre'] = df[\"5-Nom_Ombre\"]\n",
    "\n",
    "for df[1] in len(df) :\n",
    "    if df[1] == \"absente\"\n",
    "        df[1] = \"absente\"\n",
    "\n",
    "    if df[1] = \"inverse\"\n",
    "        df[1]=\"inverse\"\n",
    "\n",
    "    if df[1]= \"normal\"\n",
    "        df[1]=\"normale\"\n",
    "\n",
    "    else df[1]\n",
    "        df[1]=\"differente\"\n",
    "end\n",
    "\n",
    "\n",
    "print(df)\n"
   ]
  },
  {
   "cell_type": "code",
   "execution_count": 17,
   "metadata": {},
   "outputs": [
    {
     "ename": "SyntaxError",
     "evalue": "invalid syntax (<ipython-input-17-1572b9b80dda>, line 12)",
     "output_type": "error",
     "traceback": [
      "\u001b[0;36m  File \u001b[0;32m\"<ipython-input-17-1572b9b80dda>\"\u001b[0;36m, line \u001b[0;32m12\u001b[0m\n\u001b[0;31m    if df[1] == \"absente\"\u001b[0m\n\u001b[0m                         ^\u001b[0m\n\u001b[0;31mSyntaxError\u001b[0m\u001b[0;31m:\u001b[0m invalid syntax\n"
     ]
    }
   ],
   "source": [
    "# Faire les moyennes des TR pour chaque groupe d'ombre\n",
    "# Moyenne TR Ombre absente\n",
    "#- Ombres inverses\n",
    "#- Ombres normales\n",
    "#- Ombre différente\n",
    "\n",
    "TR_absente = []\n",
    "TR_inverses = []\n",
    "TR_normales = []\n",
    "TR_differente = []\n",
    "for i in len(df) : \n",
    "    if df[1] == \"absente\"\n",
    "    TR_absente = TR_absente + df[3]\n",
    "    \n",
    "    if df[1] == \"inverse\"\n",
    "    TR_inverses = TR_inverses + df[3]\n",
    "    \n",
    "    if df[1] == \"normal\"\n",
    "    TR_normales = TR_normales + df[3]\n",
    "    \n",
    "  #  if df[1] = \"differente\"\n",
    "   # TR_differente = TR_differente + df[3]\n",
    "\n",
    "end\n",
    "\n",
    "print(TR_absente, TR_inverses, TR_normales, TR_differente)\n",
    "        "
   ]
  },
  {
   "cell_type": "code",
   "execution_count": 18,
   "metadata": {
    "collapsed": true
   },
   "outputs": [],
   "source": [
    "# Maintenant faire on fait une regression linéaire pour voir s'il y a une explication du  temps de réaction par l'ombre\n",
    "# perçut lors de la saisie de l'objet\n",
    "from sklearn import linear_model\n",
    "import numpy as np\n",
    "import matplotlib.pyplot as plt\n",
    "\n",
    "x,y = np.loadtxt(df[1], df[3] unpack='true')\n",
    "\n",
    "plt.scatter(x,y)\n",
    "\n",
    "regr = linear_model.LinearRegression()\n",
    "regr.fit(x[:,np.newaxis], y)\n",
    "\n",
    "x_test = np.linspace(np.min(x), np.max(x), 100)\n",
    "\n",
    "plt.plot(x_test, regr.predict(x_test[:,np.newaxis]), color='blue', linewidth=3)\n",
    "\n",
    "plt.show()\n",
    "\n",
    "\n",
    "# Ensuite on obtient le coefficient directeur et l'ordonnée à l'origine \n",
    "print 'slope', regr.coef_\n",
    "print 'intercept', regr.intercept_"
   ]
  },
  {
   "cell_type": "code",
   "execution_count": null,
   "metadata": {
    "collapsed": true
   },
   "outputs": [],
   "source": [
    "# POUR Romain, je pense qu'on peut adapter ça à notre exo : par descente de gradient \n",
    "# une fonction perceptron_mse qui implante l'algorithme d'apprentissage en minimisant l'erreur quadratique\n",
    "%matplotlib inline\n",
    "import matplotlib.pyplot as plt\n",
    "import seaborn as sns; sns.set()\n",
    "import numpy as np\n",
    "from sklearn.datasets.samples_generator import make_blobs\n",
    "rng = np.random.RandomState(42)\n",
    "\n",
    "def perceptron_mse(X, y, epsilon=0.001, n_iter=100, verbose=False):\n",
    "    \"\"\"A chaque itération, tous les exemples sont passés\"\"\"\n",
    "    w_trans = rng.rand(X.shape[1])\n",
    "    for i in range(n_iter):\n",
    "        # calcul du gradient\n",
    "        E = w_trans@X.T - y # error\n",
    "        G = X*E[:,np.newaxis]\n",
    "        # modification des poids\n",
    "        if verbose:\n",
    "            obj_mse = E.T@(E)\n",
    "            print(obj_mse, w_trans)\n",
    "        w_trans -= epsilon*np.sum(G, axis=0)\n",
    "    return w_trans"
   ]
  }
 ],
 "metadata": {
  "kernelspec": {
   "display_name": "Python 3",
   "language": "python",
   "name": "python3"
  },
  "language_info": {
   "codemirror_mode": {
    "name": "ipython",
    "version": 3
   },
   "file_extension": ".py",
   "mimetype": "text/x-python",
   "name": "python",
   "nbconvert_exporter": "python",
   "pygments_lexer": "ipython3",
   "version": "3.6.2"
  }
 },
 "nbformat": 4,
 "nbformat_minor": 2
}
