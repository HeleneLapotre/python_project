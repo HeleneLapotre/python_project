{
 "cells": [
  {
   "cell_type": "code",
   "execution_count": 2,
   "metadata": {
    "collapsed": true
   },
   "outputs": [],
   "source": [
    "#  import\n",
    "import numpy as np\n",
    "import pandas as pd\n"
   ]
  },
  {
   "cell_type": "code",
   "execution_count": 3,
   "metadata": {},
   "outputs": [
    {
     "name": "stdout",
     "output_type": "stream",
     "text": [
      "      y        X1        X2\n",
      "0     0  0.523605  1.012345\n",
      "1     0  0.486128  1.171291\n",
      "2     2  0.470516  1.103335\n",
      "3     2  0.486586  1.354944\n",
      "4     3  0.426709  1.150893\n",
      "5     3  0.376597  1.154817\n",
      "6     0  0.379694  1.231407\n",
      "7     0  0.409645  1.106822\n",
      "8     1  0.343714  1.220705\n",
      "9     2  0.454609  1.057892\n",
      "10    2  0.347538  0.996828\n",
      "11    1  0.367667  1.095355\n",
      "12    1  0.362697  1.178568\n",
      "13    0  0.443666  1.151506\n",
      "14    2  0.604649  1.159977\n",
      "15    2  0.504714  1.103012\n",
      "16    0  0.467544  1.158654\n",
      "17    2  0.399664  1.072653\n",
      "18    2  0.398596  1.108424\n",
      "19    3  0.447713  1.111565\n",
      "20    1  0.535687  1.118015\n",
      "21    2  0.439706  1.101495\n",
      "22    2  0.581660  1.164766\n",
      "23    0  0.564730  1.063541\n",
      "24    1  0.437696  1.192562\n",
      "25    2  0.458409  1.030286\n",
      "26    0  0.424726  1.079622\n",
      "27    1  0.401473  1.108562\n",
      "28    1  0.377518  1.191454\n",
      "29    3  0.348704  1.153990\n",
      "...  ..       ...       ...\n",
      "1007  3  0.256415  0.964461\n",
      "1008  3  0.348405  0.990529\n",
      "1009  2  0.352332  1.012293\n",
      "1010  3  0.363554  0.974316\n",
      "1011  2  0.336241  0.980504\n",
      "1012  1  0.336503  0.972721\n",
      "1013  1  0.343306  0.993395\n",
      "1014  3  0.347452  0.958832\n",
      "1015  0  0.379363  0.896492\n",
      "1016  0  0.283379  0.994528\n",
      "1017  1  0.361494  0.882765\n",
      "1018  1  0.372435  0.840496\n",
      "1019  2  0.253470  0.947400\n",
      "1020  1  0.370485  0.858517\n",
      "1021  3  0.337439  0.881606\n",
      "1022  2  0.452421  0.830450\n",
      "1023  1  0.288486  0.819409\n",
      "1024  1  0.289190  0.788452\n",
      "1025  3  0.343397  0.914553\n",
      "1026  0  0.350273  0.862385\n",
      "1027  1  0.347430  0.811642\n",
      "1028  2  0.295458  0.963483\n",
      "1029  1  0.286443  0.862591\n",
      "1030  3  0.259452  0.932689\n",
      "1031  3  0.319452  0.887422\n",
      "1032  0  0.289436  0.918516\n",
      "1033  2  0.459377  0.820407\n",
      "1034  3  0.354299  0.838441\n",
      "1035  0  0.304433  0.742518\n",
      "1036  2  0.352428  0.822452\n",
      "\n",
      "[1037 rows x 3 columns]\n"
     ]
    }
   ],
   "source": [
    "# Import fichier CSV\n",
    "df = pd.read_csv('/Users/helene/Documents/code/python_project/data.csv')\n",
    "print(df)"
   ]
  },
  {
   "cell_type": "code",
   "execution_count": 4,
   "metadata": {},
   "outputs": [
    {
     "name": "stdout",
     "output_type": "stream",
     "text": [
      "-------- sum --------\n"
     ]
    },
    {
     "ename": "NameError",
     "evalue": "name 'TR_absente' is not defined",
     "output_type": "error",
     "traceback": [
      "\u001b[0;31m---------------------------------------------------------------------------\u001b[0m",
      "\u001b[0;31mNameError\u001b[0m                                 Traceback (most recent call last)",
      "\u001b[0;32m<ipython-input-4-2c3045fc6568>\u001b[0m in \u001b[0;36m<module>\u001b[0;34m()\u001b[0m\n\u001b[1;32m     38\u001b[0m \u001b[0;34m\u001b[0m\u001b[0m\n\u001b[1;32m     39\u001b[0m \u001b[0mprint\u001b[0m\u001b[0;34m(\u001b[0m\u001b[0;34m\"-------- sum --------\"\u001b[0m\u001b[0;34m)\u001b[0m\u001b[0;34m\u001b[0m\u001b[0m\n\u001b[0;32m---> 40\u001b[0;31m \u001b[0mprint\u001b[0m\u001b[0;34m(\u001b[0m\u001b[0;34m\"absente:\"\u001b[0m\u001b[0;34m,\u001b[0m \u001b[0mTR_absente\u001b[0m\u001b[0;34m)\u001b[0m\u001b[0;34m\u001b[0m\u001b[0m\n\u001b[0m\u001b[1;32m     41\u001b[0m \u001b[0mprint\u001b[0m\u001b[0;34m(\u001b[0m\u001b[0;34m\"normale:\"\u001b[0m\u001b[0;34m,\u001b[0m \u001b[0mTR_normale\u001b[0m\u001b[0;34m)\u001b[0m\u001b[0;34m\u001b[0m\u001b[0m\n\u001b[1;32m     42\u001b[0m \u001b[0mprint\u001b[0m\u001b[0;34m(\u001b[0m\u001b[0;34m\"inverse:\"\u001b[0m\u001b[0;34m,\u001b[0m \u001b[0mTR_inverse\u001b[0m\u001b[0;34m)\u001b[0m\u001b[0;34m\u001b[0m\u001b[0m\n",
      "\u001b[0;31mNameError\u001b[0m: name 'TR_absente' is not defined"
     ]
    }
   ],
   "source": [
    "# Rappel\n",
    "#- Ombre absente -> 0 \n",
    "#- Ombre normales -> 1 (ombres qui correspondent à l’objet à saisir)\n",
    "#- Ombres inverses -> 2  (ombres qui correspondent à l’objet mais qui sont en position inversée)\n",
    "#- Ombre différentes -> 3 (tous les autres termes ce qui correspondent à  l’ombre qui a  été présentée)\n",
    "\n",
    "TR_absente_x1 = df.loc[df['y'] == 0, 'X1'].sum()\n",
    "TR_normale_x1 = df.loc[df['y'] == 1, 'X1'].sum()\n",
    "TR_inverse_x1 = df.loc[df['y'] == 2, 'X1'].sum()\n",
    "TR_differente_x1 = df.loc[df['y'] == 3, 'X1'].sum()\n",
    "\n",
    "TR_absente_x2 = df.loc[df['y'] == 0, 'X2'].sum()\n",
    "TR_normale_x2 = df.loc[df['y'] == 1, 'X2'].sum()\n",
    "TR_inverse_x2 = df.loc[df['y'] == 2, 'X2'].sum()\n",
    "TR_differente_x2 = df.loc[df['y'] == 3, 'X2'].sum()\n",
    "\n",
    "raw_data_absente = {'X1': [TR_absente_x1], \n",
    "        'X2': [TR_absente_x2]}\n",
    "df_absente = pd.DataFrame(raw_data_absente, columns = ['X1', 'X2'])\n",
    "\n",
    "raw_data_normale = {'X1': [TR_normale_x1], \n",
    "        'X2': [TR_normale_x2]}\n",
    "df_normale = pd.DataFrame(raw_data_normale, columns = ['X1', 'X2'])\n",
    "\n",
    "raw_data_inverse = {'X1': [TR_inverse_x1], \n",
    "        'X2': [TR_inverse_x2]}\n",
    "df_inverse = pd.DataFrame(raw_data_inverse, columns = ['X1', 'X2'])\n",
    "\n",
    "raw_data_differente = {'X1': [TR_differente_x1], \n",
    "        'X2': [TR_differente_x2]}\n",
    "df_differente = pd.DataFrame(raw_data_differente, columns = ['X1', 'X2'])\n",
    "\n",
    "freq = df.groupby('y').count()\n",
    "freq_absente = freq.iloc[0][0]\n",
    "freq_normale = freq.iloc[1][0]\n",
    "freq_inverse = freq.iloc[2][0]\n",
    "freq_differente = freq.iloc[3][0]\n",
    "\n",
    "print(\"-------- sum --------\")\n",
    "print(\"absente:\", TR_absente)\n",
    "print(\"normale:\", TR_normale)\n",
    "print(\"inverse:\", TR_inverse)\n",
    "print(\"differente:\", TR_differente)\n",
    "\n",
    "print(\"-------- frequencies --------\")\n",
    "print(\"freq_absente\", freq_absente)\n",
    "print(\"freq_normale\", freq_normale)\n",
    "print(\"freq_inverse\", freq_inverse)\n",
    "print(\"freq_differente\", freq_differente)\n",
    "\n",
    "#Afficher les moyennes des temps de réaction de chaque groupe\n",
    "print(\"-------- average 1 dimension --------\")\n",
    "print(\"Moyenne TR X1 ombres Absentes =\", TR_absente/freq_absente)\n",
    "print(\"Moyenne TR X1 ombres Normales =\", TR_normale/freq_normale)\n",
    "print(\"Moyenne TR X1 ombres Inverses =\", TR_inverse/freq_inverse)\n",
    "print(\"Moyenne TR X1 ombres differente =\", TR_differente/freq_differente)\n",
    "\n",
    "print(\"-------- averages --------\")\n",
    "raw_data_differente = {\n",
    "    'y': [0,1,2,3],\n",
    "    'X1': [TR_absente_x1, TR_normale_x1, TR_inverse_x1, TR_differente_x1], \n",
    "    'X2': [TR_absente_x2, TR_normale_x2, TR_inverse_x2, TR_differente_x2],\n",
    "    'X1_average': [TR_absente_x1/freq_absente, TR_normale_x1/freq_normale, TR_inverse_x1/freq_inverse, TR_differente_x1/freq_differente],\n",
    "    'X2_average': [TR_absente_x2/freq_absente, TR_normale_x2/freq_normale, TR_inverse_x2/freq_inverse, TR_differente_x2/freq_differente]\n",
    "}\n",
    "average_df_differente = pd.DataFrame(raw_data_differente, columns = ['y', 'X1', 'X2', 'X1_average', 'X2_average'])\n",
    "print(average_df_differente)\n"
   ]
  },
  {
   "cell_type": "code",
   "execution_count": 5,
   "metadata": {},
   "outputs": [
    {
     "name": "stdout",
     "output_type": "stream",
     "text": [
      "      y        X1        X2\n",
      "2     2  0.470516  1.103335\n",
      "3     2  0.486586  1.354944\n",
      "9     2  0.454609  1.057892\n",
      "10    2  0.347538  0.996828\n",
      "14    2  0.604649  1.159977\n",
      "15    2  0.504714  1.103012\n",
      "17    2  0.399664  1.072653\n",
      "18    2  0.398596  1.108424\n",
      "21    2  0.439706  1.101495\n",
      "22    2  0.581660  1.164766\n",
      "25    2  0.458409  1.030286\n",
      "31    2  0.364702  1.104055\n",
      "32    2  0.423680  1.112543\n",
      "52    2  0.361756  1.104699\n",
      "53    2  0.347533  1.167560\n",
      "60    2  0.416687  1.193707\n",
      "64    2  0.368605  1.223509\n",
      "69    2  0.431580  1.217574\n",
      "72    2  0.386739  0.818596\n",
      "73    2  0.433802  0.804381\n",
      "78    2  0.342082  0.788531\n",
      "79    2  0.640028  0.723496\n",
      "86    2  0.490013  0.845658\n",
      "88    2  0.729232  0.638596\n",
      "95    2  0.717245  0.719369\n",
      "97    2  0.478316  0.716276\n",
      "103   2  0.354112  0.679579\n",
      "105   2  0.339072  0.652639\n",
      "107   2  0.391095  0.692623\n",
      "111   2  0.395048  0.730547\n",
      "...  ..       ...       ...\n",
      "913   2  0.424395  0.700958\n",
      "917   2  0.431504  0.648478\n",
      "918   2  0.450458  0.903834\n",
      "919   2  0.387349  0.590885\n",
      "924   2  0.327549  0.570548\n",
      "925   2  0.365398  0.648773\n",
      "944   2  0.355491  1.127733\n",
      "945   2  0.475407  0.593805\n",
      "955   2  0.342485  0.609470\n",
      "957   2  0.322400  0.579579\n",
      "962   2  0.372471  0.566960\n",
      "965   2  0.289445  0.614446\n",
      "967   2  0.272939  0.922499\n",
      "968   2  0.306998  0.959767\n",
      "973   2  0.278460  0.972741\n",
      "974   2  0.330439  0.881422\n",
      "980   2  0.259338  0.974384\n",
      "983   2  0.250406  0.851531\n",
      "991   2  0.322503  0.966627\n",
      "993   2  0.304401  0.854498\n",
      "999   2  0.400386  0.933527\n",
      "1001  2  0.272417  0.887491\n",
      "1004  2  0.244420  0.885879\n",
      "1009  2  0.352332  1.012293\n",
      "1011  2  0.336241  0.980504\n",
      "1019  2  0.253470  0.947400\n",
      "1022  2  0.452421  0.830450\n",
      "1028  2  0.295458  0.963483\n",
      "1033  2  0.459377  0.820407\n",
      "1036  2  0.352428  0.822452\n",
      "\n",
      "[259 rows x 3 columns]\n"
     ]
    }
   ],
   "source": [
    "#On stocke chaque groupe dans une matrice\n",
    "\n",
    "list_absente = df[df['y'] == 0]\n",
    "list_normale = df[df['y'] == 1]\n",
    "list_inverse = df[df['y'] == 2]\n",
    "list_differente = df[df['y'] == 3]\n",
    "\n",
    "df_absente = pd.DataFrame(raw_data_absente, columns = ['X1', 'X2'])\n",
    "\n",
    "print(list_inverse)"
   ]
  },
  {
   "cell_type": "code",
   "execution_count": 17,
   "metadata": {},
   "outputs": [
    {
     "name": "stdout",
     "output_type": "stream",
     "text": [
      "0.380558927415 0.76704273018\n",
      "0.217616586564 0.8842085434\n"
     ]
    }
   ],
   "source": [
    "from scipy import stats\n",
    "\n",
    "#Calcul de la signicativité des résultats  avec une ANOVA (analyse des différences entre les variances)\n",
    "# Pour les x1\n",
    "F_x1, p_x1 = stats.f_oneway(list_absente['X1'], list_normale['X1'], list_inverse['X1'], list_differente['X1'])\n",
    "print(F_x1, p_x1)\n",
    "\n",
    "# Pour les x2\n",
    "F_x2, p_x2 = stats.f_oneway(list_absente['X2'], list_normale['X2'], list_inverse['X2'], list_differente['X2'])\n",
    "print(F_x2, p_x2)\n",
    "\n",
    "\n",
    "#F = statistic : float --> The computed F-value of the test.\n",
    "# p = pvalue : float --> The associated p-value from the F-distribution.\n",
    "\n",
    "#Les p_values très éloignées ne sont pas significatives car supérieures à Alpha (0.5)\n",
    "# Nous décidons d'effectuer une regression linéaire pour anticiper les résultats futurs sur la base des données existantes"
   ]
  },
  {
   "cell_type": "code",
   "execution_count": 18,
   "metadata": {},
   "outputs": [
    {
     "ename": "SyntaxError",
     "evalue": "invalid syntax (<ipython-input-18-a0c52b9a59d5>, line 1)",
     "output_type": "error",
     "traceback": [
      "\u001b[0;36m  File \u001b[0;32m\"<ipython-input-18-a0c52b9a59d5>\"\u001b[0;36m, line \u001b[0;32m1\u001b[0m\n\u001b[0;31m    Conclusion :\u001b[0m\n\u001b[0m                 ^\u001b[0m\n\u001b[0;31mSyntaxError\u001b[0m\u001b[0;31m:\u001b[0m invalid syntax\n"
     ]
    }
   ],
   "source": [
    "#Conclusion : \n",
    "#Les données issues d'une expérience sur les ombres n'a mis aucune évidence de la significativité d'un effet de l'ombre \n",
    "#sur les temps de réaction. \n",
    "#En effet, après avoir conduit une recherche sur la différence entre les  moyennes des différents groupes \"ombre normale\" \n",
    "#(identique de l'objet à saisir), \"ombre différente\" (diffétente de l'objet à saisir), \"ombre inverse\" (ombre inversée par \n",
    "#rapport à l'objet présenté', \"ombre absente\" (aucune ombre présente de l'objet à saisir'), aucune différence n'a été retrouvé. \n",
    "#Pour chaque temps de réaction (X1 -> temps prémoteur ; X2 temps moteur) aucune différence n'a été mise en évidente.\n",
    "#Les X1 obtiennent une p - value de 0,76 et les X2 obtiennent une p-value de 0,88. Ainsi, c'est score largement supérieur \n",
    "#alpha ne permettent pas de conclure à un effet des ombre sur les temps de réaction lors de la saisie d'objet.\n",
    "\n",
    "#Ouverture :\n",
    "#Afin de vérifier ces résultats, nous décidons de réaliser une régression linéaire avec des algorithmes d'apprentissage. \n",
    "#Ces algorythmes nous permettrons peut être d'y trouver des différences plus intéressante.\n",
    "                                                                                                      "
   ]
  }
 ],
 "metadata": {
  "kernelspec": {
   "display_name": "Python 3",
   "language": "python",
   "name": "python3"
  },
  "language_info": {
   "codemirror_mode": {
    "name": "ipython",
    "version": 3
   },
   "file_extension": ".py",
   "mimetype": "text/x-python",
   "name": "python",
   "nbconvert_exporter": "python",
   "pygments_lexer": "ipython3",
   "version": "3.6.2"
  }
 },
 "nbformat": 4,
 "nbformat_minor": 2
}
