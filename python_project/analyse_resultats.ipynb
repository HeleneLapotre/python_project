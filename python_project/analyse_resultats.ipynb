{
 "cells": [
  {
   "cell_type": "code",
   "execution_count": 31,
   "metadata": {},
   "outputs": [],
   "source": [
    "import numpy as np\n",
    "import pandas as pd\n",
    "# pour importer les outils de maths"
   ]
  },
  {
   "cell_type": "code",
   "execution_count": 32,
   "metadata": {},
   "outputs": [
    {
     "data": {
      "text/plain": [
       "['Feuille1']"
      ]
     },
     "execution_count": 32,
     "metadata": {},
     "output_type": "execute_result"
    }
   ],
   "source": [
    "# importer la base de donnée\n",
    "data = pd.ExcelFile('/Users/helene/Documents/code/python_project/ombres.xls')\n",
    "data.sheet_names"
   ]
  },
  {
   "cell_type": "code",
   "execution_count": 33,
   "metadata": {},
   "outputs": [
    {
     "data": {
      "text/html": [
       "<div>\n",
       "<style>\n",
       "    .dataframe thead tr:only-child th {\n",
       "        text-align: right;\n",
       "    }\n",
       "\n",
       "    .dataframe thead th {\n",
       "        text-align: left;\n",
       "    }\n",
       "\n",
       "    .dataframe tbody tr th {\n",
       "        vertical-align: top;\n",
       "    }\n",
       "</style>\n",
       "<table border=\"1\" class=\"dataframe\">\n",
       "  <thead>\n",
       "    <tr style=\"text-align: right;\">\n",
       "      <th></th>\n",
       "      <th>1-ID_Sujet</th>\n",
       "      <th>2-Essai</th>\n",
       "      <th>3-Date</th>\n",
       "      <th>4-Heure</th>\n",
       "      <th>5-Nom_Ombre</th>\n",
       "      <th>6-Nom_Objet</th>\n",
       "      <th>7-Temps_Reaction</th>\n",
       "      <th>8-Temps_Deplacement</th>\n",
       "      <th>9-Temps_Total</th>\n",
       "      <th>10-Couleur</th>\n",
       "    </tr>\n",
       "  </thead>\n",
       "  <tbody>\n",
       "    <tr>\n",
       "      <th>0</th>\n",
       "      <td>1</td>\n",
       "      <td>1</td>\n",
       "      <td>14-Feb-2017</td>\n",
       "      <td>09:27:26</td>\n",
       "      <td>absente</td>\n",
       "      <td>Pomme</td>\n",
       "      <td>0.523605</td>\n",
       "      <td>1.012345</td>\n",
       "      <td>1.535949</td>\n",
       "      <td>noire</td>\n",
       "    </tr>\n",
       "    <tr>\n",
       "      <th>1</th>\n",
       "      <td>1</td>\n",
       "      <td>2</td>\n",
       "      <td>14-Feb-2017</td>\n",
       "      <td>09:27:26</td>\n",
       "      <td>absente</td>\n",
       "      <td>Dévidoir</td>\n",
       "      <td>0.486128</td>\n",
       "      <td>1.171291</td>\n",
       "      <td>1.657419</td>\n",
       "      <td>noire</td>\n",
       "    </tr>\n",
       "    <tr>\n",
       "      <th>2</th>\n",
       "      <td>1</td>\n",
       "      <td>3</td>\n",
       "      <td>14-Feb-2017</td>\n",
       "      <td>09:27:26</td>\n",
       "      <td>inverse</td>\n",
       "      <td>Souris</td>\n",
       "      <td>0.470516</td>\n",
       "      <td>1.103335</td>\n",
       "      <td>1.573851</td>\n",
       "      <td>noire</td>\n",
       "    </tr>\n",
       "    <tr>\n",
       "      <th>3</th>\n",
       "      <td>1</td>\n",
       "      <td>4</td>\n",
       "      <td>14-Feb-2017</td>\n",
       "      <td>09:27:26</td>\n",
       "      <td>inverse</td>\n",
       "      <td>Oiseau</td>\n",
       "      <td>0.486586</td>\n",
       "      <td>1.354944</td>\n",
       "      <td>1.841531</td>\n",
       "      <td>noire</td>\n",
       "    </tr>\n",
       "    <tr>\n",
       "      <th>4</th>\n",
       "      <td>1</td>\n",
       "      <td>5</td>\n",
       "      <td>14-Feb-2017</td>\n",
       "      <td>09:27:26</td>\n",
       "      <td>Souris</td>\n",
       "      <td>Oiseau</td>\n",
       "      <td>0.426709</td>\n",
       "      <td>1.150893</td>\n",
       "      <td>1.577602</td>\n",
       "      <td>noire</td>\n",
       "    </tr>\n",
       "  </tbody>\n",
       "</table>\n",
       "</div>"
      ],
      "text/plain": [
       "   1-ID_Sujet  2-Essai       3-Date   4-Heure 5-Nom_Ombre 6-Nom_Objet  \\\n",
       "0           1        1  14-Feb-2017  09:27:26     absente       Pomme   \n",
       "1           1        2  14-Feb-2017  09:27:26     absente    Dévidoir   \n",
       "2           1        3  14-Feb-2017  09:27:26     inverse      Souris   \n",
       "3           1        4  14-Feb-2017  09:27:26     inverse      Oiseau   \n",
       "4           1        5  14-Feb-2017  09:27:26      Souris      Oiseau   \n",
       "\n",
       "   7-Temps_Reaction  8-Temps_Deplacement  9-Temps_Total 10-Couleur  \n",
       "0          0.523605             1.012345       1.535949      noire  \n",
       "1          0.486128             1.171291       1.657419      noire  \n",
       "2          0.470516             1.103335       1.573851      noire  \n",
       "3          0.486586             1.354944       1.841531      noire  \n",
       "4          0.426709             1.150893       1.577602      noire  "
      ]
     },
     "execution_count": 33,
     "metadata": {},
     "output_type": "execute_result"
    }
   ],
   "source": [
    "df = data.parse('Feuille1')\n",
    "df.head()"
   ]
  },
  {
   "cell_type": "code",
   "execution_count": 34,
   "metadata": {},
   "outputs": [
    {
     "data": {
      "text/html": [
       "<div>\n",
       "<style>\n",
       "    .dataframe thead tr:only-child th {\n",
       "        text-align: right;\n",
       "    }\n",
       "\n",
       "    .dataframe thead th {\n",
       "        text-align: left;\n",
       "    }\n",
       "\n",
       "    .dataframe tbody tr th {\n",
       "        vertical-align: top;\n",
       "    }\n",
       "</style>\n",
       "<table border=\"1\" class=\"dataframe\">\n",
       "  <thead>\n",
       "    <tr style=\"text-align: right;\">\n",
       "      <th></th>\n",
       "      <th>5-Nom_Ombre</th>\n",
       "      <th>9-Temps_Total</th>\n",
       "    </tr>\n",
       "  </thead>\n",
       "  <tbody>\n",
       "    <tr>\n",
       "      <th>0</th>\n",
       "      <td>absente</td>\n",
       "      <td>1.535949</td>\n",
       "    </tr>\n",
       "    <tr>\n",
       "      <th>1</th>\n",
       "      <td>absente</td>\n",
       "      <td>1.657419</td>\n",
       "    </tr>\n",
       "    <tr>\n",
       "      <th>2</th>\n",
       "      <td>inverse</td>\n",
       "      <td>1.573851</td>\n",
       "    </tr>\n",
       "    <tr>\n",
       "      <th>3</th>\n",
       "      <td>inverse</td>\n",
       "      <td>1.841531</td>\n",
       "    </tr>\n",
       "    <tr>\n",
       "      <th>4</th>\n",
       "      <td>Souris</td>\n",
       "      <td>1.577602</td>\n",
       "    </tr>\n",
       "  </tbody>\n",
       "</table>\n",
       "</div>"
      ],
      "text/plain": [
       "  5-Nom_Ombre  9-Temps_Total\n",
       "0     absente       1.535949\n",
       "1     absente       1.657419\n",
       "2     inverse       1.573851\n",
       "3     inverse       1.841531\n",
       "4      Souris       1.577602"
      ]
     },
     "execution_count": 34,
     "metadata": {},
     "output_type": "execute_result"
    }
   ],
   "source": [
    "df = df.drop(df.columns[[0, 1, 2, 3, 5, 6, 7, 9]], axis = 1)\n",
    "df.head()"
   ]
  },
  {
   "cell_type": "code",
   "execution_count": null,
   "metadata": {
    "collapsed": true
   },
   "outputs": [],
   "source": []
  }
 ],
 "metadata": {
  "kernelspec": {
   "display_name": "Python 3",
   "language": "python",
   "name": "python3"
  },
  "language_info": {
   "codemirror_mode": {
    "name": "ipython",
    "version": 3
   },
   "file_extension": ".py",
   "mimetype": "text/x-python",
   "name": "python",
   "nbconvert_exporter": "python",
   "pygments_lexer": "ipython3",
   "version": "3.6.2"
  }
 },
 "nbformat": 4,
 "nbformat_minor": 2
}
