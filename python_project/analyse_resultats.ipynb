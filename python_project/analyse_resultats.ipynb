{
 "cells": [
  {
   "cell_type": "code",
   "execution_count": 40,
   "metadata": {
    "collapsed": true
   },
   "outputs": [],
   "source": [
    "#  import\n",
    "import numpy as np\n",
    "import pandas as pd\n"
   ]
  },
  {
   "cell_type": "code",
   "execution_count": 41,
   "metadata": {},
   "outputs": [
    {
     "name": "stdout",
     "output_type": "stream",
     "text": [
      "      ombre        tr\n",
      "0         0  1.535949\n",
      "1         0  1.657419\n",
      "2         2  1.573851\n",
      "3         2  1.841531\n",
      "4         3  1.577602\n",
      "5         3  1.531415\n",
      "6         0  1.611101\n",
      "7         0  1.516467\n",
      "8         1  1.564420\n",
      "9         2  1.512501\n",
      "10        2  1.344366\n",
      "11        1  1.463022\n",
      "12        1  1.541265\n",
      "13        0  1.595173\n",
      "14        2  1.764626\n",
      "15        2  1.607727\n",
      "16        0  1.626198\n",
      "17        2  1.472316\n",
      "18        2  1.507020\n",
      "19        3  1.559278\n",
      "20        1  1.653702\n",
      "21        2  1.541201\n",
      "22        2  1.746426\n",
      "23        0  1.628271\n",
      "24        1  1.630258\n",
      "25        2  1.488695\n",
      "26        0  1.504348\n",
      "27        1  1.510036\n",
      "28        1  1.568972\n",
      "29        3  1.502695\n",
      "...     ...       ...\n",
      "1007      3  1.220877\n",
      "1008      3  1.338934\n",
      "1009      2  1.364625\n",
      "1010      3  1.337870\n",
      "1011      2  1.316746\n",
      "1012      1  1.309224\n",
      "1013      1  1.336701\n",
      "1014      3  1.306285\n",
      "1015      0  1.275856\n",
      "1016      0  1.277907\n",
      "1017      1  1.244259\n",
      "1018      1  1.212931\n",
      "1019      2  1.200870\n",
      "1020      1  1.229002\n",
      "1021      3  1.219045\n",
      "1022      2  1.282871\n",
      "1023      1  1.107895\n",
      "1024      1  1.077641\n",
      "1025      3  1.257950\n",
      "1026      0  1.212658\n",
      "1027      1  1.159072\n",
      "1028      2  1.258941\n",
      "1029      1  1.149034\n",
      "1030      3  1.192142\n",
      "1031      3  1.206874\n",
      "1032      0  1.207952\n",
      "1033      2  1.279783\n",
      "1034      3  1.192740\n",
      "1035      0  1.046951\n",
      "1036      2  1.174880\n",
      "\n",
      "[1037 rows x 2 columns]\n"
     ]
    }
   ],
   "source": [
    "# Import fichier CSV\n",
    "df = pd.read_csv('/Users/helene/Documents/code/python_project/data.csv')\n",
    "print(df)"
   ]
  },
  {
   "cell_type": "code",
   "execution_count": 65,
   "metadata": {},
   "outputs": [
    {
     "name": "stdout",
     "output_type": "stream",
     "text": [
      "-------- sum --------\n",
      "absente: 320.64210602081783\n",
      "normale: 308.36264631312633\n",
      "inverse: 318.9939103767935\n",
      "differente: 322.73577774766625\n",
      "-------- frequencies --------\n",
      "freq_absente 261\n",
      "freq_normale 254\n",
      "freq_inverse 259\n",
      "freq_differente 263\n",
      "Moyenne TR ombres Absentes = 1.22851381617\n",
      "Moyenne TR ombres Normales = 1.21402616659\n",
      "Moyenne TR ombres Inverses = 1.2316367196\n",
      "Moyenne TR ombres Inverses = 1.22713223478\n"
     ]
    }
   ],
   "source": [
    "# Rappel\n",
    "#- Ombre absente -> 0 \n",
    "#- Ombre normales -> 1 normal (qui correspond à l’objet)\n",
    "#- Ombres inverses -> 2  (ombre qui correspondent à l’objet mais qui sont en position inversée)\n",
    "#- Ombre différente -> 3 tous les autres terme ce qui correspond à  l’ombre qui a  été présentée\n",
    "\n",
    "TR_absente = df.loc[df['ombre'] == 0, 'tr'].sum()\n",
    "TR_normale = df.loc[df['ombre'] == 1, 'tr'].sum()\n",
    "TR_inverse = df.loc[df['ombre'] == 2, 'tr'].sum()\n",
    "TR_differente = df.loc[df['ombre'] == 3, 'tr'].sum()\n",
    "\n",
    "freq = df.groupby('ombre').count()\n",
    "freq_absente = freq.iloc[0][0]\n",
    "freq_normale = freq.iloc[1][0]\n",
    "freq_inverse = freq.iloc[2][0]\n",
    "freq_differente = freq.iloc[3][0]\n",
    "\n",
    "print(\"-------- sum --------\")\n",
    "print(\"absente:\", TR_absente)\n",
    "print(\"normale:\", TR_normale)\n",
    "print(\"inverse:\", TR_inverse)\n",
    "print(\"differente:\", TR_differente)\n",
    "\n",
    "print(\"-------- frequencies --------\")\n",
    "print(\"freq_absente\", freq_absente)\n",
    "print(\"freq_normale\", freq_normale)\n",
    "print(\"freq_inverse\", freq_inverse)\n",
    "print(\"freq_differente\", freq_differente)\n",
    "\n",
    "#Afficher les moyennes des temps de réaction de chaque groupe\n",
    "print(\"Moyenne TR ombres Absentes =\", TR_absente/freq_absente)\n",
    "print(\"Moyenne TR ombres Normales =\", TR_normale/freq_normale)\n",
    "print(\"Moyenne TR ombres Inverses =\", TR_inverse/freq_inverse)\n",
    "print(\"Moyenne TR ombres Inverses =\", TR_differente/freq_differente)\n"
   ]
  },
  {
   "cell_type": "code",
   "execution_count": null,
   "metadata": {
    "collapsed": true
   },
   "outputs": [],
   "source": []
  },
  {
   "cell_type": "code",
   "execution_count": 18,
   "metadata": {
    "collapsed": true
   },
   "outputs": [],
   "source": [
    "# Maintenant faire on fait une regression linéaire pour voir s'il y a une explication du  temps de réaction par l'ombre\n",
    "# perçut lors de la saisie de l'objet\n",
    "from sklearn import linear_model\n",
    "import numpy as np\n",
    "import matplotlib.pyplot as plt\n",
    "\n",
    "x,y = np.loadtxt(df[1], df[3] unpack='true')\n",
    "\n",
    "plt.scatter(x,y)\n",
    "\n",
    "regr = linear_model.LinearRegression()\n",
    "regr.fit(x[:,np.newaxis], y)\n",
    "\n",
    "x_test = np.linspace(np.min(x), np.max(x), 100)\n",
    "\n",
    "plt.plot(x_test, regr.predict(x_test[:,np.newaxis]), color='blue', linewidth=3)\n",
    "\n",
    "plt.show()\n",
    "\n",
    "\n",
    "# Ensuite on obtient le coefficient directeur et l'ordonnée à l'origine \n",
    "print 'slope', regr.coef_\n",
    "print 'intercept', regr.intercept_"
   ]
  },
  {
   "cell_type": "code",
   "execution_count": null,
   "metadata": {
    "collapsed": true
   },
   "outputs": [],
   "source": [
    "# POUR Romain, je pense qu'on peut adapter ça à notre exo : par descente de gradient \n",
    "# une fonction perceptron_mse qui implante l'algorithme d'apprentissage en minimisant l'erreur quadratique\n",
    "%matplotlib inline\n",
    "import matplotlib.pyplot as plt\n",
    "import seaborn as sns; sns.set()\n",
    "import numpy as np\n",
    "from sklearn.datasets.samples_generator import make_blobs\n",
    "rng = np.random.RandomState(42)\n",
    "\n",
    "def perceptron_mse(X, y, epsilon=0.001, n_iter=100, verbose=False):\n",
    "    \"\"\"A chaque itération, tous les exemples sont passés\"\"\"\n",
    "    w_trans = rng.rand(X.shape[1])\n",
    "    for i in range(n_iter):\n",
    "        # calcul du gradient\n",
    "        E = w_trans@X.T - y # error\n",
    "        G = X*E[:,np.newaxis]\n",
    "        # modification des poids\n",
    "        if verbose:\n",
    "            obj_mse = E.T@(E)\n",
    "            print(obj_mse, w_trans)\n",
    "        w_trans -= epsilon*np.sum(G, axis=0)\n",
    "    return w_trans"
   ]
  }
 ],
 "metadata": {
  "kernelspec": {
   "display_name": "Python 3",
   "language": "python",
   "name": "python3"
  },
  "language_info": {
   "codemirror_mode": {
    "name": "ipython",
    "version": 3
   },
   "file_extension": ".py",
   "mimetype": "text/x-python",
   "name": "python",
   "nbconvert_exporter": "python",
   "pygments_lexer": "ipython3",
   "version": "3.6.2"
  }
 },
 "nbformat": 4,
 "nbformat_minor": 2
}
