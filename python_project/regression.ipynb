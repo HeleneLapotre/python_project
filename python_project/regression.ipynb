{
 "cells": [
  {
   "cell_type": "markdown",
   "metadata": {},
   "source": [
    "# Régression linéaire"
   ]
  },
  {
   "cell_type": "markdown",
   "metadata": {},
   "source": [
    "Le premier objectif est ici de faire une régression linéaire afin d'esayer de séparer les différents types d'ombres"
   ]
  },
  {
   "cell_type": "code",
   "execution_count": 2,
   "metadata": {},
   "outputs": [],
   "source": [
    "%matplotlib inline\n",
    "import matplotlib.pyplot as plt\n",
    "import seaborn as sns; sns.set()\n",
    "import numpy as np\n",
    "import pandas as pd\n",
    "from sklearn.linear_model import LinearRegression"
   ]
  },
  {
   "cell_type": "code",
   "execution_count": 3,
   "metadata": {},
   "outputs": [
    {
     "data": {
      "text/html": [
       "<div>\n",
       "<style>\n",
       "    .dataframe thead tr:only-child th {\n",
       "        text-align: right;\n",
       "    }\n",
       "\n",
       "    .dataframe thead th {\n",
       "        text-align: left;\n",
       "    }\n",
       "\n",
       "    .dataframe tbody tr th {\n",
       "        vertical-align: top;\n",
       "    }\n",
       "</style>\n",
       "<table border=\"1\" class=\"dataframe\">\n",
       "  <thead>\n",
       "    <tr style=\"text-align: right;\">\n",
       "      <th></th>\n",
       "      <th>y</th>\n",
       "      <th>X1</th>\n",
       "      <th>X2</th>\n",
       "    </tr>\n",
       "  </thead>\n",
       "  <tbody>\n",
       "    <tr>\n",
       "      <th>0</th>\n",
       "      <td>0</td>\n",
       "      <td>0.523605</td>\n",
       "      <td>1.012345</td>\n",
       "    </tr>\n",
       "    <tr>\n",
       "      <th>1</th>\n",
       "      <td>0</td>\n",
       "      <td>0.486128</td>\n",
       "      <td>1.171291</td>\n",
       "    </tr>\n",
       "    <tr>\n",
       "      <th>2</th>\n",
       "      <td>2</td>\n",
       "      <td>0.470516</td>\n",
       "      <td>1.103335</td>\n",
       "    </tr>\n",
       "    <tr>\n",
       "      <th>3</th>\n",
       "      <td>2</td>\n",
       "      <td>0.486586</td>\n",
       "      <td>1.354944</td>\n",
       "    </tr>\n",
       "    <tr>\n",
       "      <th>4</th>\n",
       "      <td>3</td>\n",
       "      <td>0.426709</td>\n",
       "      <td>1.150893</td>\n",
       "    </tr>\n",
       "    <tr>\n",
       "      <th>5</th>\n",
       "      <td>3</td>\n",
       "      <td>0.376597</td>\n",
       "      <td>1.154817</td>\n",
       "    </tr>\n",
       "    <tr>\n",
       "      <th>6</th>\n",
       "      <td>0</td>\n",
       "      <td>0.379694</td>\n",
       "      <td>1.231407</td>\n",
       "    </tr>\n",
       "    <tr>\n",
       "      <th>7</th>\n",
       "      <td>0</td>\n",
       "      <td>0.409645</td>\n",
       "      <td>1.106822</td>\n",
       "    </tr>\n",
       "    <tr>\n",
       "      <th>8</th>\n",
       "      <td>1</td>\n",
       "      <td>0.343714</td>\n",
       "      <td>1.220705</td>\n",
       "    </tr>\n",
       "    <tr>\n",
       "      <th>9</th>\n",
       "      <td>2</td>\n",
       "      <td>0.454609</td>\n",
       "      <td>1.057892</td>\n",
       "    </tr>\n",
       "    <tr>\n",
       "      <th>10</th>\n",
       "      <td>2</td>\n",
       "      <td>0.347538</td>\n",
       "      <td>0.996828</td>\n",
       "    </tr>\n",
       "    <tr>\n",
       "      <th>11</th>\n",
       "      <td>1</td>\n",
       "      <td>0.367667</td>\n",
       "      <td>1.095355</td>\n",
       "    </tr>\n",
       "    <tr>\n",
       "      <th>12</th>\n",
       "      <td>1</td>\n",
       "      <td>0.362697</td>\n",
       "      <td>1.178568</td>\n",
       "    </tr>\n",
       "    <tr>\n",
       "      <th>13</th>\n",
       "      <td>0</td>\n",
       "      <td>0.443666</td>\n",
       "      <td>1.151506</td>\n",
       "    </tr>\n",
       "    <tr>\n",
       "      <th>14</th>\n",
       "      <td>2</td>\n",
       "      <td>0.604649</td>\n",
       "      <td>1.159977</td>\n",
       "    </tr>\n",
       "    <tr>\n",
       "      <th>15</th>\n",
       "      <td>2</td>\n",
       "      <td>0.504714</td>\n",
       "      <td>1.103012</td>\n",
       "    </tr>\n",
       "    <tr>\n",
       "      <th>16</th>\n",
       "      <td>0</td>\n",
       "      <td>0.467544</td>\n",
       "      <td>1.158654</td>\n",
       "    </tr>\n",
       "    <tr>\n",
       "      <th>17</th>\n",
       "      <td>2</td>\n",
       "      <td>0.399664</td>\n",
       "      <td>1.072653</td>\n",
       "    </tr>\n",
       "    <tr>\n",
       "      <th>18</th>\n",
       "      <td>2</td>\n",
       "      <td>0.398596</td>\n",
       "      <td>1.108424</td>\n",
       "    </tr>\n",
       "    <tr>\n",
       "      <th>19</th>\n",
       "      <td>3</td>\n",
       "      <td>0.447713</td>\n",
       "      <td>1.111565</td>\n",
       "    </tr>\n",
       "    <tr>\n",
       "      <th>20</th>\n",
       "      <td>1</td>\n",
       "      <td>0.535687</td>\n",
       "      <td>1.118015</td>\n",
       "    </tr>\n",
       "    <tr>\n",
       "      <th>21</th>\n",
       "      <td>2</td>\n",
       "      <td>0.439706</td>\n",
       "      <td>1.101495</td>\n",
       "    </tr>\n",
       "    <tr>\n",
       "      <th>22</th>\n",
       "      <td>2</td>\n",
       "      <td>0.581660</td>\n",
       "      <td>1.164766</td>\n",
       "    </tr>\n",
       "    <tr>\n",
       "      <th>23</th>\n",
       "      <td>0</td>\n",
       "      <td>0.564730</td>\n",
       "      <td>1.063541</td>\n",
       "    </tr>\n",
       "    <tr>\n",
       "      <th>24</th>\n",
       "      <td>1</td>\n",
       "      <td>0.437696</td>\n",
       "      <td>1.192562</td>\n",
       "    </tr>\n",
       "    <tr>\n",
       "      <th>25</th>\n",
       "      <td>2</td>\n",
       "      <td>0.458409</td>\n",
       "      <td>1.030286</td>\n",
       "    </tr>\n",
       "    <tr>\n",
       "      <th>26</th>\n",
       "      <td>0</td>\n",
       "      <td>0.424726</td>\n",
       "      <td>1.079622</td>\n",
       "    </tr>\n",
       "    <tr>\n",
       "      <th>27</th>\n",
       "      <td>1</td>\n",
       "      <td>0.401473</td>\n",
       "      <td>1.108562</td>\n",
       "    </tr>\n",
       "    <tr>\n",
       "      <th>28</th>\n",
       "      <td>1</td>\n",
       "      <td>0.377518</td>\n",
       "      <td>1.191454</td>\n",
       "    </tr>\n",
       "    <tr>\n",
       "      <th>29</th>\n",
       "      <td>3</td>\n",
       "      <td>0.348704</td>\n",
       "      <td>1.153990</td>\n",
       "    </tr>\n",
       "    <tr>\n",
       "      <th>...</th>\n",
       "      <td>...</td>\n",
       "      <td>...</td>\n",
       "      <td>...</td>\n",
       "    </tr>\n",
       "    <tr>\n",
       "      <th>1007</th>\n",
       "      <td>3</td>\n",
       "      <td>0.256415</td>\n",
       "      <td>0.964461</td>\n",
       "    </tr>\n",
       "    <tr>\n",
       "      <th>1008</th>\n",
       "      <td>3</td>\n",
       "      <td>0.348405</td>\n",
       "      <td>0.990529</td>\n",
       "    </tr>\n",
       "    <tr>\n",
       "      <th>1009</th>\n",
       "      <td>2</td>\n",
       "      <td>0.352332</td>\n",
       "      <td>1.012293</td>\n",
       "    </tr>\n",
       "    <tr>\n",
       "      <th>1010</th>\n",
       "      <td>3</td>\n",
       "      <td>0.363554</td>\n",
       "      <td>0.974316</td>\n",
       "    </tr>\n",
       "    <tr>\n",
       "      <th>1011</th>\n",
       "      <td>2</td>\n",
       "      <td>0.336241</td>\n",
       "      <td>0.980504</td>\n",
       "    </tr>\n",
       "    <tr>\n",
       "      <th>1012</th>\n",
       "      <td>1</td>\n",
       "      <td>0.336503</td>\n",
       "      <td>0.972721</td>\n",
       "    </tr>\n",
       "    <tr>\n",
       "      <th>1013</th>\n",
       "      <td>1</td>\n",
       "      <td>0.343306</td>\n",
       "      <td>0.993395</td>\n",
       "    </tr>\n",
       "    <tr>\n",
       "      <th>1014</th>\n",
       "      <td>3</td>\n",
       "      <td>0.347452</td>\n",
       "      <td>0.958832</td>\n",
       "    </tr>\n",
       "    <tr>\n",
       "      <th>1015</th>\n",
       "      <td>0</td>\n",
       "      <td>0.379363</td>\n",
       "      <td>0.896492</td>\n",
       "    </tr>\n",
       "    <tr>\n",
       "      <th>1016</th>\n",
       "      <td>0</td>\n",
       "      <td>0.283379</td>\n",
       "      <td>0.994528</td>\n",
       "    </tr>\n",
       "    <tr>\n",
       "      <th>1017</th>\n",
       "      <td>1</td>\n",
       "      <td>0.361494</td>\n",
       "      <td>0.882765</td>\n",
       "    </tr>\n",
       "    <tr>\n",
       "      <th>1018</th>\n",
       "      <td>1</td>\n",
       "      <td>0.372435</td>\n",
       "      <td>0.840496</td>\n",
       "    </tr>\n",
       "    <tr>\n",
       "      <th>1019</th>\n",
       "      <td>2</td>\n",
       "      <td>0.253470</td>\n",
       "      <td>0.947400</td>\n",
       "    </tr>\n",
       "    <tr>\n",
       "      <th>1020</th>\n",
       "      <td>1</td>\n",
       "      <td>0.370485</td>\n",
       "      <td>0.858517</td>\n",
       "    </tr>\n",
       "    <tr>\n",
       "      <th>1021</th>\n",
       "      <td>3</td>\n",
       "      <td>0.337439</td>\n",
       "      <td>0.881606</td>\n",
       "    </tr>\n",
       "    <tr>\n",
       "      <th>1022</th>\n",
       "      <td>2</td>\n",
       "      <td>0.452421</td>\n",
       "      <td>0.830450</td>\n",
       "    </tr>\n",
       "    <tr>\n",
       "      <th>1023</th>\n",
       "      <td>1</td>\n",
       "      <td>0.288486</td>\n",
       "      <td>0.819409</td>\n",
       "    </tr>\n",
       "    <tr>\n",
       "      <th>1024</th>\n",
       "      <td>1</td>\n",
       "      <td>0.289190</td>\n",
       "      <td>0.788452</td>\n",
       "    </tr>\n",
       "    <tr>\n",
       "      <th>1025</th>\n",
       "      <td>3</td>\n",
       "      <td>0.343397</td>\n",
       "      <td>0.914553</td>\n",
       "    </tr>\n",
       "    <tr>\n",
       "      <th>1026</th>\n",
       "      <td>0</td>\n",
       "      <td>0.350273</td>\n",
       "      <td>0.862385</td>\n",
       "    </tr>\n",
       "    <tr>\n",
       "      <th>1027</th>\n",
       "      <td>1</td>\n",
       "      <td>0.347430</td>\n",
       "      <td>0.811642</td>\n",
       "    </tr>\n",
       "    <tr>\n",
       "      <th>1028</th>\n",
       "      <td>2</td>\n",
       "      <td>0.295458</td>\n",
       "      <td>0.963483</td>\n",
       "    </tr>\n",
       "    <tr>\n",
       "      <th>1029</th>\n",
       "      <td>1</td>\n",
       "      <td>0.286443</td>\n",
       "      <td>0.862591</td>\n",
       "    </tr>\n",
       "    <tr>\n",
       "      <th>1030</th>\n",
       "      <td>3</td>\n",
       "      <td>0.259452</td>\n",
       "      <td>0.932689</td>\n",
       "    </tr>\n",
       "    <tr>\n",
       "      <th>1031</th>\n",
       "      <td>3</td>\n",
       "      <td>0.319452</td>\n",
       "      <td>0.887422</td>\n",
       "    </tr>\n",
       "    <tr>\n",
       "      <th>1032</th>\n",
       "      <td>0</td>\n",
       "      <td>0.289436</td>\n",
       "      <td>0.918516</td>\n",
       "    </tr>\n",
       "    <tr>\n",
       "      <th>1033</th>\n",
       "      <td>2</td>\n",
       "      <td>0.459377</td>\n",
       "      <td>0.820407</td>\n",
       "    </tr>\n",
       "    <tr>\n",
       "      <th>1034</th>\n",
       "      <td>3</td>\n",
       "      <td>0.354299</td>\n",
       "      <td>0.838441</td>\n",
       "    </tr>\n",
       "    <tr>\n",
       "      <th>1035</th>\n",
       "      <td>0</td>\n",
       "      <td>0.304433</td>\n",
       "      <td>0.742518</td>\n",
       "    </tr>\n",
       "    <tr>\n",
       "      <th>1036</th>\n",
       "      <td>2</td>\n",
       "      <td>0.352428</td>\n",
       "      <td>0.822452</td>\n",
       "    </tr>\n",
       "  </tbody>\n",
       "</table>\n",
       "<p>1037 rows × 3 columns</p>\n",
       "</div>"
      ],
      "text/plain": [
       "      y        X1        X2\n",
       "0     0  0.523605  1.012345\n",
       "1     0  0.486128  1.171291\n",
       "2     2  0.470516  1.103335\n",
       "3     2  0.486586  1.354944\n",
       "4     3  0.426709  1.150893\n",
       "5     3  0.376597  1.154817\n",
       "6     0  0.379694  1.231407\n",
       "7     0  0.409645  1.106822\n",
       "8     1  0.343714  1.220705\n",
       "9     2  0.454609  1.057892\n",
       "10    2  0.347538  0.996828\n",
       "11    1  0.367667  1.095355\n",
       "12    1  0.362697  1.178568\n",
       "13    0  0.443666  1.151506\n",
       "14    2  0.604649  1.159977\n",
       "15    2  0.504714  1.103012\n",
       "16    0  0.467544  1.158654\n",
       "17    2  0.399664  1.072653\n",
       "18    2  0.398596  1.108424\n",
       "19    3  0.447713  1.111565\n",
       "20    1  0.535687  1.118015\n",
       "21    2  0.439706  1.101495\n",
       "22    2  0.581660  1.164766\n",
       "23    0  0.564730  1.063541\n",
       "24    1  0.437696  1.192562\n",
       "25    2  0.458409  1.030286\n",
       "26    0  0.424726  1.079622\n",
       "27    1  0.401473  1.108562\n",
       "28    1  0.377518  1.191454\n",
       "29    3  0.348704  1.153990\n",
       "...  ..       ...       ...\n",
       "1007  3  0.256415  0.964461\n",
       "1008  3  0.348405  0.990529\n",
       "1009  2  0.352332  1.012293\n",
       "1010  3  0.363554  0.974316\n",
       "1011  2  0.336241  0.980504\n",
       "1012  1  0.336503  0.972721\n",
       "1013  1  0.343306  0.993395\n",
       "1014  3  0.347452  0.958832\n",
       "1015  0  0.379363  0.896492\n",
       "1016  0  0.283379  0.994528\n",
       "1017  1  0.361494  0.882765\n",
       "1018  1  0.372435  0.840496\n",
       "1019  2  0.253470  0.947400\n",
       "1020  1  0.370485  0.858517\n",
       "1021  3  0.337439  0.881606\n",
       "1022  2  0.452421  0.830450\n",
       "1023  1  0.288486  0.819409\n",
       "1024  1  0.289190  0.788452\n",
       "1025  3  0.343397  0.914553\n",
       "1026  0  0.350273  0.862385\n",
       "1027  1  0.347430  0.811642\n",
       "1028  2  0.295458  0.963483\n",
       "1029  1  0.286443  0.862591\n",
       "1030  3  0.259452  0.932689\n",
       "1031  3  0.319452  0.887422\n",
       "1032  0  0.289436  0.918516\n",
       "1033  2  0.459377  0.820407\n",
       "1034  3  0.354299  0.838441\n",
       "1035  0  0.304433  0.742518\n",
       "1036  2  0.352428  0.822452\n",
       "\n",
       "[1037 rows x 3 columns]"
      ]
     },
     "execution_count": 3,
     "metadata": {},
     "output_type": "execute_result"
    }
   ],
   "source": [
    "data = pd.read_csv('data.csv')\n",
    "data"
   ]
  },
  {
   "cell_type": "markdown",
   "metadata": {},
   "source": [
    "Nous allons commencer par esssayer de séparer les données des ombres absentes (= 0) et des ombres normales (= 1)"
   ]
  },
  {
   "cell_type": "code",
   "execution_count": 4,
   "metadata": {
    "scrolled": true
   },
   "outputs": [
    {
     "name": "stderr",
     "output_type": "stream",
     "text": [
      "/home/romain/.local/lib/python3.5/site-packages/ipykernel_launcher.py:5: SettingWithCopyWarning: \n",
      "A value is trying to be set on a copy of a slice from a DataFrame\n",
      "\n",
      "See the caveats in the documentation: http://pandas.pydata.org/pandas-docs/stable/indexing.html#indexing-view-versus-copy\n",
      "  \"\"\"\n",
      "/usr/local/lib/python3.5/dist-packages/pandas/core/generic.py:5233: SettingWithCopyWarning: \n",
      "A value is trying to be set on a copy of a slice from a DataFrame\n",
      "\n",
      "See the caveats in the documentation: http://pandas.pydata.org/pandas-docs/stable/indexing.html#indexing-view-versus-copy\n",
      "  self._update_inplace(new_data)\n",
      "/home/romain/.local/lib/python3.5/site-packages/IPython/core/interactiveshell.py:2910: SettingWithCopyWarning: \n",
      "A value is trying to be set on a copy of a slice from a DataFrame\n",
      "\n",
      "See the caveats in the documentation: http://pandas.pydata.org/pandas-docs/stable/indexing.html#indexing-view-versus-copy\n",
      "  exec(code_obj, self.user_global_ns, self.user_ns)\n"
     ]
    },
    {
     "data": {
      "text/plain": [
       "0      -1\n",
       "1      -1\n",
       "6      -1\n",
       "7      -1\n",
       "8       1\n",
       "11      1\n",
       "12      1\n",
       "13     -1\n",
       "16     -1\n",
       "20      1\n",
       "23     -1\n",
       "24      1\n",
       "26     -1\n",
       "27      1\n",
       "28      1\n",
       "30     -1\n",
       "33     -1\n",
       "36     -1\n",
       "40     -1\n",
       "41      1\n",
       "42      1\n",
       "43      1\n",
       "44      1\n",
       "45     -1\n",
       "46      1\n",
       "47     -1\n",
       "49      1\n",
       "51      1\n",
       "56     -1\n",
       "58      1\n",
       "       ..\n",
       "977    -1\n",
       "981    -1\n",
       "982    -1\n",
       "984    -1\n",
       "985    -1\n",
       "986     1\n",
       "988     1\n",
       "989    -1\n",
       "990    -1\n",
       "992    -1\n",
       "996     1\n",
       "997    -1\n",
       "998    -1\n",
       "1000    1\n",
       "1002    1\n",
       "1003    1\n",
       "1012    1\n",
       "1013    1\n",
       "1015   -1\n",
       "1016   -1\n",
       "1017    1\n",
       "1018    1\n",
       "1020    1\n",
       "1023    1\n",
       "1024    1\n",
       "1026   -1\n",
       "1027    1\n",
       "1029    1\n",
       "1032   -1\n",
       "1035   -1\n",
       "Name: y, Length: 515, dtype: int64"
      ]
     },
     "execution_count": 4,
     "metadata": {},
     "output_type": "execute_result"
    }
   ],
   "source": [
    "df1 = data.loc[data.y.isin([0,1])]\n",
    "X = df1[['X1', 'X2']].values\n",
    "y = df1.y\n",
    "\n",
    "y[y==0] = -1\n",
    "y"
   ]
  },
  {
   "cell_type": "markdown",
   "metadata": {},
   "source": [
    "On crée les échantillons d'entraînement et de test, puis on entraîne le modèle dessus :"
   ]
  },
  {
   "cell_type": "code",
   "execution_count": 5,
   "metadata": {},
   "outputs": [],
   "source": [
    "X_train = X[:180]\n",
    "y_train = y[:180]\n",
    "X_test = X[180:]\n",
    "y_test = y[180:]"
   ]
  },
  {
   "cell_type": "code",
   "execution_count": 6,
   "metadata": {},
   "outputs": [],
   "source": [
    "model_LR = LinearRegression(fit_intercept=True)"
   ]
  },
  {
   "cell_type": "code",
   "execution_count": 7,
   "metadata": {},
   "outputs": [
    {
     "data": {
      "text/plain": [
       "LinearRegression(copy_X=True, fit_intercept=True, n_jobs=1, normalize=False)"
      ]
     },
     "execution_count": 7,
     "metadata": {},
     "output_type": "execute_result"
    }
   ],
   "source": [
    "model_LR.fit(X_train, y_train)"
   ]
  },
  {
   "cell_type": "code",
   "execution_count": 8,
   "metadata": {},
   "outputs": [
    {
     "data": {
      "text/plain": [
       "False"
      ]
     },
     "execution_count": 8,
     "metadata": {},
     "output_type": "execute_result"
    }
   ],
   "source": [
    "np.all((model_LR.predict(X_train)>0) == (y_train>0))"
   ]
  },
  {
   "cell_type": "markdown",
   "metadata": {},
   "source": [
    "Ici, le modèle n'arrive pas à prédire correctement.\n",
    "On va tout de même continuer et récupérer les coefficients et intercept, puis tracer les data et le séparateur : "
   ]
  },
  {
   "cell_type": "code",
   "execution_count": 9,
   "metadata": {},
   "outputs": [
    {
     "data": {
      "text/plain": [
       "(-1.032014721182094, 0.083505604843746181, 0.37275727051278268)"
      ]
     },
     "execution_count": 9,
     "metadata": {},
     "output_type": "execute_result"
    }
   ],
   "source": [
    "(*model_LR.coef_,model_LR.intercept_)"
   ]
  },
  {
   "cell_type": "code",
   "execution_count": 10,
   "metadata": {},
   "outputs": [],
   "source": [
    "def trace(X, y, w):\n",
    "    plt.scatter(X[:,0], X[:,1], c=y, cmap='Paired', s=100)\n",
    "    scale = [np.min(X[:,0]), np.max(X[:,0])]\n",
    "    plt.plot(scale,[[(-w[0]-w[1]*i)/w[2]] for i in scale])"
   ]
  },
  {
   "cell_type": "code",
   "execution_count": 11,
   "metadata": {},
   "outputs": [
    {
     "data": {
      "image/png": "[encoded data removed]",
      "text/plain": [
       "<matplotlib.figure.Figure at 0x7f516d3e5240>"
      ]
     },
     "metadata": {},
     "output_type": "display_data"
    }
   ],
   "source": [
    "trace(X_train, y_train, (model_LR.intercept_, *model_LR.coef_))"
   ]
  },
  {
   "cell_type": "markdown",
   "metadata": {},
   "source": [
    "Les données sont trop rapprocher pour pouvoir réellement les séparer, ce qui explique pourquoi le modèle \n",
    "n arrive pas à prédire."
   ]
  },
  {
   "cell_type": "code",
   "execution_count": 12,
   "metadata": {},
   "outputs": [
    {
     "data": {
      "text/plain": [
       "False"
      ]
     },
     "execution_count": 12,
     "metadata": {},
     "output_type": "execute_result"
    }
   ],
   "source": [
    "np.all((model_LR.predict(X_test)>0) == (y_test>0))"
   ]
  },
  {
   "cell_type": "code",
   "execution_count": 13,
   "metadata": {},
   "outputs": [
    {
     "data": {
      "text/plain": [
       "0.53731343283582089"
      ]
     },
     "execution_count": 13,
     "metadata": {},
     "output_type": "execute_result"
    }
   ],
   "source": [
    "np.sum((model_LR.predict(X_test)>0) == (y_test>0))/X_test.shape[0]"
   ]
  },
  {
   "cell_type": "code",
   "execution_count": 14,
   "metadata": {},
   "outputs": [
    {
     "data": {
      "text/plain": [
       "-0.012863313214048542"
      ]
     },
     "execution_count": 14,
     "metadata": {},
     "output_type": "execute_result"
    }
   ],
   "source": [
    "model_LR.score(X_test, y_test)"
   ]
  },
  {
   "cell_type": "markdown",
   "metadata": {},
   "source": [
    "Les scores confirment l hypothèse de données trop proches, nous allons donc réutiliser une nouvelle fois la régression linéaire mais sur 2 autres échantillons : les ombres normales (= 1) et les ombres différentes (= 3)."
   ]
  },
  {
   "cell_type": "code",
   "execution_count": 15,
   "metadata": {},
   "outputs": [
    {
     "name": "stderr",
     "output_type": "stream",
     "text": [
      "/home/romain/.local/lib/python3.5/site-packages/ipykernel_launcher.py:5: SettingWithCopyWarning: \n",
      "A value is trying to be set on a copy of a slice from a DataFrame\n",
      "\n",
      "See the caveats in the documentation: http://pandas.pydata.org/pandas-docs/stable/indexing.html#indexing-view-versus-copy\n",
      "  \"\"\"\n",
      "/usr/local/lib/python3.5/dist-packages/pandas/core/generic.py:5233: SettingWithCopyWarning: \n",
      "A value is trying to be set on a copy of a slice from a DataFrame\n",
      "\n",
      "See the caveats in the documentation: http://pandas.pydata.org/pandas-docs/stable/indexing.html#indexing-view-versus-copy\n",
      "  self._update_inplace(new_data)\n",
      "/home/romain/.local/lib/python3.5/site-packages/IPython/core/interactiveshell.py:2910: SettingWithCopyWarning: \n",
      "A value is trying to be set on a copy of a slice from a DataFrame\n",
      "\n",
      "See the caveats in the documentation: http://pandas.pydata.org/pandas-docs/stable/indexing.html#indexing-view-versus-copy\n",
      "  exec(code_obj, self.user_global_ns, self.user_ns)\n"
     ]
    }
   ],
   "source": [
    "df2 = data.loc[data.y.isin([1,3])]\n",
    "X2 = df2[['X1', 'X2']].values\n",
    "y2 = df2.y\n",
    "\n",
    "y2[y2==3] = -1\n",
    "\n",
    "X_train2 = X2[:180]\n",
    "y_train2 = y2[:180]\n",
    "X_test2 = X2[180:]\n",
    "y_test2 = y2[180:]"
   ]
  },
  {
   "cell_type": "code",
   "execution_count": 16,
   "metadata": {},
   "outputs": [
    {
     "data": {
      "text/plain": [
       "4    -1\n",
       "5    -1\n",
       "8     1\n",
       "11    1\n",
       "12    1\n",
       "Name: y, dtype: int64"
      ]
     },
     "execution_count": 16,
     "metadata": {},
     "output_type": "execute_result"
    }
   ],
   "source": [
    "y2.head()"
   ]
  },
  {
   "cell_type": "code",
   "execution_count": 18,
   "metadata": {},
   "outputs": [
    {
     "data": {
      "text/plain": [
       "False"
      ]
     },
     "execution_count": 18,
     "metadata": {},
     "output_type": "execute_result"
    }
   ],
   "source": [
    "model_LR = LinearRegression(fit_intercept=True)\n",
    "model_LR.fit(X_train2, y_train2)\n",
    "np.all((model_LR.predict(X_train2)>0) == (y_train2>0))"
   ]
  },
  {
   "cell_type": "code",
   "execution_count": 19,
   "metadata": {},
   "outputs": [
    {
     "data": {
      "image/png": "[encoded data removed]",
      "text/plain": [
       "<matplotlib.figure.Figure at 0x7f51a41e39e8>"
      ]
     },
     "metadata": {},
     "output_type": "display_data"
    }
   ],
   "source": [
    "trace(X_train2, y_train2, (model_LR.intercept_, *model_LR.coef_))"
   ]
  },
  {
   "cell_type": "markdown",
   "metadata": {},
   "source": [
    "Une nouvelle fois, le modèle n'arrive pas à prédire correctement à cause des données trop proches."
   ]
  },
  {
   "cell_type": "markdown",
   "metadata": {},
   "source": [
    "# Classifier"
   ]
  },
  {
   "cell_type": "code",
   "execution_count": 20,
   "metadata": {},
   "outputs": [],
   "source": [
    "from sklearn.linear_model import SGDClassifier"
   ]
  },
  {
   "cell_type": "code",
   "execution_count": 21,
   "metadata": {},
   "outputs": [
    {
     "data": {
      "text/plain": [
       "SGDClassifier(alpha=0.0001, average=False, class_weight=None, epsilon=0.1,\n",
       "       eta0=0.0, fit_intercept=True, l1_ratio=0.15,\n",
       "       learning_rate='optimal', loss='hinge', max_iter=100000, n_iter=None,\n",
       "       n_jobs=1, penalty='l2', power_t=0.5, random_state=42, shuffle=True,\n",
       "       tol=None, verbose=0, warm_start=False)"
      ]
     },
     "execution_count": 21,
     "metadata": {},
     "output_type": "execute_result"
    }
   ],
   "source": [
    "model_SGD = SGDClassifier(random_state=42, max_iter=100000)\n",
    "model_SGD.fit(X_train2, y_train2)"
   ]
  },
  {
   "cell_type": "code",
   "execution_count": 22,
   "metadata": {},
   "outputs": [
    {
     "name": "stdout",
     "output_type": "stream",
     "text": [
      "0.511111111111\n",
      "0.507418397626\n"
     ]
    }
   ],
   "source": [
    "print(model_SGD.score(X_train2, y_train2))\n",
    "print(model_SGD.score(X_test2, y_test2))"
   ]
  },
  {
   "cell_type": "markdown",
   "metadata": {},
   "source": [
    "Une nouvelle fois, les scores d'apprentissage du modèle sont assez mauvais pour les données."
   ]
  },
  {
   "cell_type": "code",
   "execution_count": 23,
   "metadata": {},
   "outputs": [
    {
     "data": {
      "image/png": "[encoded data removed]",
      "text/plain": [
       "<matplotlib.figure.Figure at 0x7f516b353e10>"
      ]
     },
     "metadata": {},
     "output_type": "display_data"
    }
   ],
   "source": [
    "trace(X, y, (*model_SGD.intercept_.flat, *model_SGD.coef_.flat))"
   ]
  },
  {
   "cell_type": "markdown",
   "metadata": {},
   "source": [
    "En utilisant une fonction de perte quadratique :"
   ]
  },
  {
   "cell_type": "code",
   "execution_count": 24,
   "metadata": {},
   "outputs": [],
   "source": [
    "model_SGD = SGDClassifier(loss=\"squared_loss\", max_iter=100000,\n",
    "                          random_state=42)"
   ]
  },
  {
   "cell_type": "code",
   "execution_count": 25,
   "metadata": {},
   "outputs": [
    {
     "name": "stdout",
     "output_type": "stream",
     "text": [
      "0.422222222222\n",
      "0.507462686567\n"
     ]
    }
   ],
   "source": [
    "model_SGD.fit(X_train2, y_train)\n",
    "print(model_SGD.score(X_train, y_train))\n",
    "print(model_SGD.score(X_test, y_test))"
   ]
  },
  {
   "cell_type": "code",
   "execution_count": 26,
   "metadata": {
    "scrolled": true
   },
   "outputs": [
    {
     "data": {
      "image/png": "[encoded data removed]",
      "text/plain": [
       "<matplotlib.figure.Figure at 0x7f516b394e80>"
      ]
     },
     "metadata": {},
     "output_type": "display_data"
    }
   ],
   "source": [
    "trace(X_train, y_train, (*model_SGD.intercept_.flat, *model_SGD.coef_.flat))"
   ]
  },
  {
   "cell_type": "markdown",
   "metadata": {},
   "source": [
    "# Conclusion"
   ]
  },
  {
   "cell_type": "markdown",
   "metadata": {},
   "source": [
    "Nous n'avons malheureusement pas pu différencier les données à l'aide d'algorithmes d'apprentissage.\n",
    "Des données pas assez différentes d'un point de vue statistiques ne peuvent pas être discriminer de façon correcte."
   ]
  }
 ],
 "metadata": {
  "kernelspec": {
   "display_name": "Python 3",
   "language": "python",
   "name": "python3"
  },
  "language_info": {
   "codemirror_mode": {
    "name": "ipython",
    "version": 3
   },
   "file_extension": ".py",
   "mimetype": "text/x-python",
   "name": "python",
   "nbconvert_exporter": "python",
   "pygments_lexer": "ipython3",
   "version": "3.5.2"
  }
 },
 "nbformat": 4,
 "nbformat_minor": 2
}
