{
 "cells": [
  {
   "cell_type": "code",
   "execution_count": 35,
   "metadata": {},
   "outputs": [],
   "source": [
    "%matplotlib inline\n",
    "import matplotlib.pyplot as plt\n",
    "import seaborn as sns; sns.set()\n",
    "import numpy as np\n",
    "import pandas as pd\n",
    "from sklearn.linear_model import LinearRegression"
   ]
  },
  {
   "cell_type": "code",
   "execution_count": 27,
   "metadata": {},
   "outputs": [
    {
     "data": {
      "text/html": [
       "<div>\n",
       "<style>\n",
       "    .dataframe thead tr:only-child th {\n",
       "        text-align: right;\n",
       "    }\n",
       "\n",
       "    .dataframe thead th {\n",
       "        text-align: left;\n",
       "    }\n",
       "\n",
       "    .dataframe tbody tr th {\n",
       "        vertical-align: top;\n",
       "    }\n",
       "</style>\n",
       "<table border=\"1\" class=\"dataframe\">\n",
       "  <thead>\n",
       "    <tr style=\"text-align: right;\">\n",
       "      <th></th>\n",
       "      <th>ombre</th>\n",
       "      <th>tr</th>\n",
       "    </tr>\n",
       "  </thead>\n",
       "  <tbody>\n",
       "    <tr>\n",
       "      <th>0</th>\n",
       "      <td>0</td>\n",
       "      <td>1.535949</td>\n",
       "    </tr>\n",
       "    <tr>\n",
       "      <th>1</th>\n",
       "      <td>0</td>\n",
       "      <td>1.657419</td>\n",
       "    </tr>\n",
       "    <tr>\n",
       "      <th>2</th>\n",
       "      <td>2</td>\n",
       "      <td>1.573851</td>\n",
       "    </tr>\n",
       "    <tr>\n",
       "      <th>3</th>\n",
       "      <td>2</td>\n",
       "      <td>1.841531</td>\n",
       "    </tr>\n",
       "    <tr>\n",
       "      <th>4</th>\n",
       "      <td>4</td>\n",
       "      <td>1.577602</td>\n",
       "    </tr>\n",
       "  </tbody>\n",
       "</table>\n",
       "</div>"
      ],
      "text/plain": [
       "   ombre        tr\n",
       "0      0  1.535949\n",
       "1      0  1.657419\n",
       "2      2  1.573851\n",
       "3      2  1.841531\n",
       "4      4  1.577602"
      ]
     },
     "execution_count": 27,
     "metadata": {},
     "output_type": "execute_result"
    }
   ],
   "source": [
    "data = pd.read_csv('data.csv')\n",
    "data.head()"
   ]
  },
  {
   "cell_type": "code",
   "execution_count": 33,
   "metadata": {},
   "outputs": [
    {
     "name": "stderr",
     "output_type": "stream",
     "text": [
      "/home/romain/.local/lib/python3.5/site-packages/ipykernel_launcher.py:5: SettingWithCopyWarning: \n",
      "A value is trying to be set on a copy of a slice from a DataFrame\n",
      "\n",
      "See the caveats in the documentation: http://pandas.pydata.org/pandas-docs/stable/indexing.html#indexing-view-versus-copy\n",
      "  \"\"\"\n",
      "/usr/local/lib/python3.5/dist-packages/pandas/core/generic.py:5233: SettingWithCopyWarning: \n",
      "A value is trying to be set on a copy of a slice from a DataFrame\n",
      "\n",
      "See the caveats in the documentation: http://pandas.pydata.org/pandas-docs/stable/indexing.html#indexing-view-versus-copy\n",
      "  self._update_inplace(new_data)\n",
      "/home/romain/.local/lib/python3.5/site-packages/IPython/core/interactiveshell.py:2910: SettingWithCopyWarning: \n",
      "A value is trying to be set on a copy of a slice from a DataFrame\n",
      "\n",
      "See the caveats in the documentation: http://pandas.pydata.org/pandas-docs/stable/indexing.html#indexing-view-versus-copy\n",
      "  exec(code_obj, self.user_global_ns, self.user_ns)\n"
     ]
    },
    {
     "data": {
      "text/plain": [
       "0    -1\n",
       "1    -1\n",
       "6    -1\n",
       "7    -1\n",
       "8     1\n",
       "11    1\n",
       "12    1\n",
       "13   -1\n",
       "16   -1\n",
       "20    1\n",
       "23   -1\n",
       "24    1\n",
       "26   -1\n",
       "27    1\n",
       "28    1\n",
       "30   -1\n",
       "33   -1\n",
       "36   -1\n",
       "40   -1\n",
       "41    1\n",
       "Name: ombre, dtype: int64"
      ]
     },
     "execution_count": 33,
     "metadata": {},
     "output_type": "execute_result"
    }
   ],
   "source": [
    "df1 = data.loc[data.ombre.isin([0,1])]\n",
    "X = df1.tr\n",
    "y = df1.ombre\n",
    "\n",
    "y[y==0] = -1\n",
    "y[:20]"
   ]
  },
  {
   "cell_type": "code",
   "execution_count": 38,
   "metadata": {},
   "outputs": [
    {
     "data": {
      "text/plain": [
       "366   -1\n",
       "367    1\n",
       "369    1\n",
       "370   -1\n",
       "371   -1\n",
       "Name: ombre, dtype: int64"
      ]
     },
     "execution_count": 38,
     "metadata": {},
     "output_type": "execute_result"
    }
   ],
   "source": [
    "X_train = X[:180]\n",
    "y_train = y[:180]\n",
    "X_test = X[180:]\n",
    "y_test = y[180:]"
   ]
  },
  {
   "cell_type": "code",
   "execution_count": 36,
   "metadata": {},
   "outputs": [],
   "source": [
    "model_LR = LinearRegression(fit_intercept=True)"
   ]
  },
  {
   "cell_type": "code",
   "execution_count": 37,
   "metadata": {},
   "outputs": [
    {
     "ename": "ValueError",
     "evalue": "Expected 2D array, got 1D array instead:\narray=[ 1.53594937  1.65741898  1.61110061  1.51646748  1.56441961  1.46302164\n  1.54126485  1.59517264  1.62619784  1.65370184  1.62827122  1.63025836\n  1.50434828  1.51003563  1.56897172  1.59037955  1.72509398  1.60524657\n  1.61916083  1.6694227   1.60386535  1.54010998  1.55156745  1.53811591\n  1.47617522  1.48331656  1.53676548  1.45152568  1.65694741  1.51247702\n  1.67255471  1.68121007  1.62478774  1.48124972  1.51568872  1.53594937\n  1.21610515  1.19970581  1.13198348  1.17957851  1.34110621  1.2707288\n  1.28663077  1.21871442  1.14837781  1.36178593  1.31608259  1.20490779\n  1.13662034  1.3646227   1.2225671   0.98570332  1.04976044  1.16079473\n  1.06884295  1.09552729  1.06780086  1.30049976  1.05276121  1.21571056\n  1.02953074  1.01681625  1.2329776   1.21161689  1.08637177  1.20255645\n  1.1415205   1.2257234   1.10257631  1.82544804  1.69928917  1.50110695\n  1.427476    1.64516329  1.50532262  1.65839007  1.54585179  1.52524344\n  1.53428957  1.53445587  1.38201129  1.65728485  1.64387791  1.43801962\n  1.530112    1.57149269  1.93346306  1.57307102  1.53802443  1.34608969\n  1.55119809  1.51818254  1.57719585  1.59342299  1.46047154  1.51027665\n  1.90309449  1.57392986  1.48508961  1.38314345  1.65642755  1.46464872\n  1.02888841  1.20981066  1.08426965  0.90295244  0.99291677  1.25694262\n  0.95895769  0.94714756  0.99414248  0.95414071  0.79187623  1.04291475\n  1.02577564  1.04280311  0.91088488  1.01674914  1.01203495  1.01791018\n  0.99182041  1.02391552  1.12007191  1.15798528  1.04073935  1.14980608\n  1.03477712  0.98992064  1.24787339  1.28725538  1.15299045  1.05679711\n  1.02701867  0.99989221  1.03077278  0.84380747  0.97527375  1.60154099\n  1.1078287   1.02049787  1.05053923  1.03769125  1.05008074  1.20389655\n  1.19528927  1.18010652  1.14298924  1.08302392  1.1816629   1.34877862\n  1.31649257  1.20670289  1.32274198  1.02366107  1.1145724   1.07886291\n  0.97070815  1.19877429  1.0748836   1.22979499  1.13773148  1.08890493\n  1.24380554  1.01874438  1.23176405  1.11526802  1.1091468   1.09282072\n  1.18378094  1.05997571  1.14288953  0.99860337  0.94166306  0.9586247\n  1.13280825  0.99372557  1.03264869  0.98863488  0.92086993  1.1039464 ].\nReshape your data either using array.reshape(-1, 1) if your data has a single feature or array.reshape(1, -1) if it contains a single sample.",
     "output_type": "error",
     "traceback": [
      "\u001b[0;31m---------------------------------------------------------------------------\u001b[0m",
      "\u001b[0;31mValueError\u001b[0m                                Traceback (most recent call last)",
      "\u001b[0;32m<ipython-input-37-1976437c55a3>\u001b[0m in \u001b[0;36m<module>\u001b[0;34m()\u001b[0m\n\u001b[0;32m----> 1\u001b[0;31m \u001b[0mmodel_LR\u001b[0m\u001b[0;34m.\u001b[0m\u001b[0mfit\u001b[0m\u001b[0;34m(\u001b[0m\u001b[0mX_train\u001b[0m\u001b[0;34m,\u001b[0m \u001b[0my_train\u001b[0m\u001b[0;34m)\u001b[0m\u001b[0;34m\u001b[0m\u001b[0m\n\u001b[0m",
      "\u001b[0;32m/usr/local/lib/python3.5/dist-packages/sklearn/linear_model/base.py\u001b[0m in \u001b[0;36mfit\u001b[0;34m(self, X, y, sample_weight)\u001b[0m\n\u001b[1;32m    480\u001b[0m         \u001b[0mn_jobs_\u001b[0m \u001b[0;34m=\u001b[0m \u001b[0mself\u001b[0m\u001b[0;34m.\u001b[0m\u001b[0mn_jobs\u001b[0m\u001b[0;34m\u001b[0m\u001b[0m\n\u001b[1;32m    481\u001b[0m         X, y = check_X_y(X, y, accept_sparse=['csr', 'csc', 'coo'],\n\u001b[0;32m--> 482\u001b[0;31m                          y_numeric=True, multi_output=True)\n\u001b[0m\u001b[1;32m    483\u001b[0m \u001b[0;34m\u001b[0m\u001b[0m\n\u001b[1;32m    484\u001b[0m         \u001b[0;32mif\u001b[0m \u001b[0msample_weight\u001b[0m \u001b[0;32mis\u001b[0m \u001b[0;32mnot\u001b[0m \u001b[0;32mNone\u001b[0m \u001b[0;32mand\u001b[0m \u001b[0mnp\u001b[0m\u001b[0;34m.\u001b[0m\u001b[0matleast_1d\u001b[0m\u001b[0;34m(\u001b[0m\u001b[0msample_weight\u001b[0m\u001b[0;34m)\u001b[0m\u001b[0;34m.\u001b[0m\u001b[0mndim\u001b[0m \u001b[0;34m>\u001b[0m \u001b[0;36m1\u001b[0m\u001b[0;34m:\u001b[0m\u001b[0;34m\u001b[0m\u001b[0m\n",
      "\u001b[0;32m/usr/local/lib/python3.5/dist-packages/sklearn/utils/validation.py\u001b[0m in \u001b[0;36mcheck_X_y\u001b[0;34m(X, y, accept_sparse, dtype, order, copy, force_all_finite, ensure_2d, allow_nd, multi_output, ensure_min_samples, ensure_min_features, y_numeric, warn_on_dtype, estimator)\u001b[0m\n\u001b[1;32m    571\u001b[0m     X = check_array(X, accept_sparse, dtype, order, copy, force_all_finite,\n\u001b[1;32m    572\u001b[0m                     \u001b[0mensure_2d\u001b[0m\u001b[0;34m,\u001b[0m \u001b[0mallow_nd\u001b[0m\u001b[0;34m,\u001b[0m \u001b[0mensure_min_samples\u001b[0m\u001b[0;34m,\u001b[0m\u001b[0;34m\u001b[0m\u001b[0m\n\u001b[0;32m--> 573\u001b[0;31m                     ensure_min_features, warn_on_dtype, estimator)\n\u001b[0m\u001b[1;32m    574\u001b[0m     \u001b[0;32mif\u001b[0m \u001b[0mmulti_output\u001b[0m\u001b[0;34m:\u001b[0m\u001b[0;34m\u001b[0m\u001b[0m\n\u001b[1;32m    575\u001b[0m         y = check_array(y, 'csr', force_all_finite=True, ensure_2d=False,\n",
      "\u001b[0;32m/usr/local/lib/python3.5/dist-packages/sklearn/utils/validation.py\u001b[0m in \u001b[0;36mcheck_array\u001b[0;34m(array, accept_sparse, dtype, order, copy, force_all_finite, ensure_2d, allow_nd, ensure_min_samples, ensure_min_features, warn_on_dtype, estimator)\u001b[0m\n\u001b[1;32m    439\u001b[0m                     \u001b[0;34m\"Reshape your data either using array.reshape(-1, 1) if \"\u001b[0m\u001b[0;34m\u001b[0m\u001b[0m\n\u001b[1;32m    440\u001b[0m                     \u001b[0;34m\"your data has a single feature or array.reshape(1, -1) \"\u001b[0m\u001b[0;34m\u001b[0m\u001b[0m\n\u001b[0;32m--> 441\u001b[0;31m                     \"if it contains a single sample.\".format(array))\n\u001b[0m\u001b[1;32m    442\u001b[0m             \u001b[0marray\u001b[0m \u001b[0;34m=\u001b[0m \u001b[0mnp\u001b[0m\u001b[0;34m.\u001b[0m\u001b[0matleast_2d\u001b[0m\u001b[0;34m(\u001b[0m\u001b[0marray\u001b[0m\u001b[0;34m)\u001b[0m\u001b[0;34m\u001b[0m\u001b[0m\n\u001b[1;32m    443\u001b[0m             \u001b[0;31m# To ensure that array flags are maintained\u001b[0m\u001b[0;34m\u001b[0m\u001b[0;34m\u001b[0m\u001b[0m\n",
      "\u001b[0;31mValueError\u001b[0m: Expected 2D array, got 1D array instead:\narray=[ 1.53594937  1.65741898  1.61110061  1.51646748  1.56441961  1.46302164\n  1.54126485  1.59517264  1.62619784  1.65370184  1.62827122  1.63025836\n  1.50434828  1.51003563  1.56897172  1.59037955  1.72509398  1.60524657\n  1.61916083  1.6694227   1.60386535  1.54010998  1.55156745  1.53811591\n  1.47617522  1.48331656  1.53676548  1.45152568  1.65694741  1.51247702\n  1.67255471  1.68121007  1.62478774  1.48124972  1.51568872  1.53594937\n  1.21610515  1.19970581  1.13198348  1.17957851  1.34110621  1.2707288\n  1.28663077  1.21871442  1.14837781  1.36178593  1.31608259  1.20490779\n  1.13662034  1.3646227   1.2225671   0.98570332  1.04976044  1.16079473\n  1.06884295  1.09552729  1.06780086  1.30049976  1.05276121  1.21571056\n  1.02953074  1.01681625  1.2329776   1.21161689  1.08637177  1.20255645\n  1.1415205   1.2257234   1.10257631  1.82544804  1.69928917  1.50110695\n  1.427476    1.64516329  1.50532262  1.65839007  1.54585179  1.52524344\n  1.53428957  1.53445587  1.38201129  1.65728485  1.64387791  1.43801962\n  1.530112    1.57149269  1.93346306  1.57307102  1.53802443  1.34608969\n  1.55119809  1.51818254  1.57719585  1.59342299  1.46047154  1.51027665\n  1.90309449  1.57392986  1.48508961  1.38314345  1.65642755  1.46464872\n  1.02888841  1.20981066  1.08426965  0.90295244  0.99291677  1.25694262\n  0.95895769  0.94714756  0.99414248  0.95414071  0.79187623  1.04291475\n  1.02577564  1.04280311  0.91088488  1.01674914  1.01203495  1.01791018\n  0.99182041  1.02391552  1.12007191  1.15798528  1.04073935  1.14980608\n  1.03477712  0.98992064  1.24787339  1.28725538  1.15299045  1.05679711\n  1.02701867  0.99989221  1.03077278  0.84380747  0.97527375  1.60154099\n  1.1078287   1.02049787  1.05053923  1.03769125  1.05008074  1.20389655\n  1.19528927  1.18010652  1.14298924  1.08302392  1.1816629   1.34877862\n  1.31649257  1.20670289  1.32274198  1.02366107  1.1145724   1.07886291\n  0.97070815  1.19877429  1.0748836   1.22979499  1.13773148  1.08890493\n  1.24380554  1.01874438  1.23176405  1.11526802  1.1091468   1.09282072\n  1.18378094  1.05997571  1.14288953  0.99860337  0.94166306  0.9586247\n  1.13280825  0.99372557  1.03264869  0.98863488  0.92086993  1.1039464 ].\nReshape your data either using array.reshape(-1, 1) if your data has a single feature or array.reshape(1, -1) if it contains a single sample."
     ]
    }
   ],
   "source": [
    "model_LR.fit(X_train, y_train)"
   ]
  }
 ],
 "metadata": {
  "kernelspec": {
   "display_name": "Python 3",
   "language": "python",
   "name": "python3"
  },
  "language_info": {
   "codemirror_mode": {
    "name": "ipython",
    "version": 3
   },
   "file_extension": ".py",
   "mimetype": "text/x-python",
   "name": "python",
   "nbconvert_exporter": "python",
   "pygments_lexer": "ipython3",
   "version": "3.5.2"
  }
 },
 "nbformat": 4,
 "nbformat_minor": 2
}
